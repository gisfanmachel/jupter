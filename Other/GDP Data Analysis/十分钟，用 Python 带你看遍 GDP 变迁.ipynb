{
 "cells": [
  {
   "cell_type": "markdown",
   "metadata": {
    "id": "8471E505BE2449D893B5E116B305A3DC",
    "jupyter": {},
    "mdEditEnable": false,
    "slideshow": {
     "slide_type": "slide"
    },
    "tags": []
   },
   "source": [
    "文章转自微信公众号：萝卜大杂烩 作者：周萝卜\n",
    "[查看原文请点击](https://mp.weixin.qq.com/s?__biz=MzU5NDcyOTg4MA==&mid=2247485145&idx=1&sn=59316568470821822b7f336c131be1cb&chksm=fe7d882ec90a0138ab84fa39e83af43a506f3266f15552ebf99d939448aa30b60d61dce2c5e1&mpshare=1&scene=1&srcid=07153oB1cWrh4O9QPOoRmre5&sharer_sharetime=1594793717194&sharer_shareid=79849f3a9438a070c3db3cc2e1520499&version=3.0.25.2103&platform=win&rd2werd=1#wechat_redirect)"
   ]
  },
  {
   "cell_type": "markdown",
   "metadata": {
    "id": "2DE21ADFC9F74330AEBCDAA2F38B1A79",
    "jupyter": {},
    "mdEditEnable": false,
    "slideshow": {
     "slide_type": "slide"
    },
    "tags": []
   },
   "source": [
    "偶然之间，发现了一个网站，title 是世界银行，很高级的样子，可以下载很多有趣的数据，这对于我们练手数据分析及可视化真的是太好的资源了，不多说，戳下面的链接可以火箭直达哦！\n",
    "\n",
    "https://data.worldbank.org/\n",
    "\n",
    "我从该网站上下载了世界各国历年的 GDP 总值和增长率数据，下面就摩拳擦掌，一探 GDP 的世界！"
   ]
  },
  {
   "cell_type": "code",
   "execution_count": 1,
   "metadata": {
    "id": "49F05E2094FE48958D2B448C8C970FF7",
    "jupyter": {},
    "slideshow": {
     "slide_type": "slide"
    },
    "tags": []
   },
   "outputs": [],
   "source": [
    "import pandas as pd\n",
    "import pdb"
   ]
  },
  {
   "cell_type": "code",
   "execution_count": 2,
   "metadata": {
    "id": "631636AC199B4D2B87F39CCFAC634A96",
    "jupyter": {},
    "slideshow": {
     "slide_type": "slide"
    },
    "tags": []
   },
   "outputs": [
    {
     "ename": "ModuleNotFoundError",
     "evalue": "No module named 'pyecharts'",
     "output_type": "error",
     "traceback": [
      "\u001b[1;31m---------------------------------------------------------------------------\u001b[0m",
      "\u001b[1;31mModuleNotFoundError\u001b[0m                       Traceback (most recent call last)",
      "Cell \u001b[1;32mIn[2], line 1\u001b[0m\n\u001b[1;32m----> 1\u001b[0m \u001b[38;5;28;01mfrom\u001b[39;00m \u001b[38;5;21;01mpyecharts\u001b[39;00m \u001b[38;5;28;01mimport\u001b[39;00m options \u001b[38;5;28;01mas\u001b[39;00m opts\n\u001b[0;32m      2\u001b[0m \u001b[38;5;28;01mfrom\u001b[39;00m \u001b[38;5;21;01mpyecharts\u001b[39;00m\u001b[38;5;21;01m.\u001b[39;00m\u001b[38;5;21;01mcharts\u001b[39;00m \u001b[38;5;28;01mimport\u001b[39;00m Pie, Bar, Map, Geo, Liquid, Line\n\u001b[0;32m      4\u001b[0m gdp \u001b[38;5;241m=\u001b[39m pd\u001b[38;5;241m.\u001b[39mread_csv(\u001b[38;5;124m'\u001b[39m\u001b[38;5;124mGDP-data/GDP_data.csv\u001b[39m\u001b[38;5;124m'\u001b[39m)\n",
      "\u001b[1;31mModuleNotFoundError\u001b[0m: No module named 'pyecharts'"
     ]
    }
   ],
   "source": [
    "from pyecharts import options as opts\n",
    "from pyecharts.charts import Pie, Bar, Map, Geo, Liquid, Line\n",
    "\n",
    "gdp = pd.read_csv('GDP-data/GDP_data.csv')\n",
    "# pdb.set_trace()\n",
    "#设置断点\n",
    "country = pd.read_csv('GDP-data/Country_data.csv')"
   ]
  },
  {
   "cell_type": "markdown",
   "metadata": {
    "id": "2B368703CC174BC79F63F245D6644199",
    "jupyter": {},
    "mdEditEnable": false,
    "slideshow": {
     "slide_type": "slide"
    },
    "tags": []
   },
   "source": [
    "# 各个收入等级分析\n",
    "## 各个收入等级分布\n",
    "首先我们先来看下世界各国分布在不同收入等级的情况"
   ]
  },
  {
   "cell_type": "code",
   "execution_count": null,
   "metadata": {
    "id": "E691DE45FA3244DD8D139ECD2A47411C",
    "jupyter": {},
    "slideshow": {
     "slide_type": "slide"
    },
    "tags": []
   },
   "outputs": [],
   "source": [
    "country_data = country.dropna(subset=['Income_Group'])\n",
    "rank_cuntry = country_data.groupby('Income_Group').size()\n",
    "# 各个收入等级分布\n",
    "pie = Pie()\n",
    "pie.add(\"\", [list(z) for z in zip(rank_cuntry.index.tolist(), rank_cuntry.values.tolist())],\n",
    "        radius=[\"30%\", \"75%\"], center=[\"45%\", \"50%\"], rosetype=\"radius\",\n",
    "        )\n",
    "pie.set_global_opts(title_opts=opts.TitleOpts(title=\"各个国家收入等级分布\"))\n",
    "pie.set_series_opts(label_opts=opts.LabelOpts(formatter=\"{b}, {d}%\"))\n",
    "pie.render_notebook()\n"
   ]
  },
  {
   "cell_type": "markdown",
   "metadata": {
    "id": "9C5E3899C5894A92A6FFD4B88E63861D",
    "jupyter": {},
    "mdEditEnable": false,
    "slideshow": {
     "slide_type": "slide"
    },
    "tags": []
   },
   "source": [
    "可以看到，处于“高等收入”和“低收入”的国家比例差距还是很大的，在二十一世纪的今天，还有太多的人过着食不果腹、衣不保暖的生活。\n",
    "\n",
    "下面我们再具体看下不同收入等级中各个国家具体的 GDP \n",
    "\n",
    "## 高收入国家\n",
    "首先是高收入国家 top10 的 GDP 总量\n",
    "\n",
    "我们首先拿到高等收入的国家信息，再与 gdp 信息数据合并，最后得到 top10 数据"
   ]
  },
  {
   "cell_type": "code",
   "execution_count": null,
   "metadata": {
    "id": "DF43FFC2491140749EE80C5C9C4DF6AE",
    "jupyter": {},
    "slideshow": {
     "slide_type": "slide"
    },
    "tags": []
   },
   "outputs": [],
   "source": [
    "high = country_data[country_data['Income_Group'] == '高收入国家']"
   ]
  },
  {
   "cell_type": "code",
   "execution_count": null,
   "metadata": {
    "id": "70CE50979BC14971823FB294AF1D795E",
    "jupyter": {},
    "slideshow": {
     "slide_type": "slide"
    },
    "tags": []
   },
   "outputs": [],
   "source": [
    "# 高收入国家2018年的GDP\n",
    "high_gdp = pd.merge(high, gdp, how='inner')\n",
    "high_gdp['2018'] = high_gdp['2018'].apply(lambda x: x/1000000000000)\n",
    "high_gdp_top10 = high_gdp[['Country Name', 'Country Code', '2018']].sort_values(by='2018', ascending=False)[:10]"
   ]
  },
  {
   "cell_type": "code",
   "execution_count": null,
   "metadata": {
    "id": "26DDACC5B212456288895598BDAD53A5",
    "jupyter": {},
    "mdEditEnable": false,
    "slideshow": {
     "slide_type": "slide"
    },
    "tags": []
   },
   "outputs": [],
   "source": [
    "bar = Bar()\n",
    "bar.add_xaxis(high_gdp_top10['Country Name'].values.tolist())\n",
    "bar.add_yaxis(\"\", high_gdp_top10['2018'].values.tolist())\n",
    "bar.reversal_axis()\n",
    "bar.set_series_opts(label_opts=opts.LabelOpts(position=\"right\"))\n",
    "bar.set_global_opts(title_opts=opts.TitleOpts(title=\"高收入国家GDP Top10\", subtitle=\"\"),\n",
    "                   xaxis_opts=opts.AxisOpts(\n",
    "                axislabel_opts=opts.LabelOpts(formatter=\"{value} /万亿\")\n",
    "            ),)\n",
    "bar.render_notebook()"
   ]
  },
  {
   "cell_type": "markdown",
   "metadata": {
    "id": "66171A38AE9A4B30AF31CD63F680E08F",
    "jupyter": {},
    "mdEditEnable": false,
    "slideshow": {
     "slide_type": "slide"
    },
    "tags": []
   },
   "source": [
    "可以看到，美国是一骑绝尘，排在后面的小弟们，总量加一起也没法和美国相提并论。而在前十名当中，几乎清一色的欧美发达国家。\n",
    "\n",
    "我们再把榜单扩展到 top20，能看到，欧洲国家还是居多的，而中东的两个土豪也成功上榜了。"
   ]
  },
  {
   "cell_type": "code",
   "execution_count": null,
   "metadata": {
    "id": "76F0E0773A154C609EF68F24A7026E91",
    "jupyter": {},
    "slideshow": {
     "slide_type": "slide"
    },
    "tags": []
   },
   "outputs": [],
   "source": [
    "high_gdp_top20 = high_gdp[['Country Name', 'Country Code', '2018']].sort_values(by='2018', ascending=False)[:20]\n",
    "\n",
    "bar = Bar()\n",
    "bar.add_xaxis(high_gdp_top20['Country Name'].values.tolist())\n",
    "bar.add_yaxis(\"\", high_gdp_top20['2018'].values.tolist())\n",
    "bar.reversal_axis()\n",
    "bar.set_series_opts(label_opts=opts.LabelOpts(position=\"right\"))\n",
    "bar.set_global_opts(title_opts=opts.TitleOpts(title=\"高收入国家GDP Top20\", subtitle=\"\"),\n",
    "                   xaxis_opts=opts.AxisOpts(\n",
    "                axislabel_opts=opts.LabelOpts(formatter=\"{value} /万亿\")\n",
    "            ),)\n",
    "bar.render_notebook()"
   ]
  },
  {
   "cell_type": "markdown",
   "metadata": {
    "id": "C3CEE90290EC4C2888B57A26D2DC8F23",
    "jupyter": {},
    "mdEditEnable": false,
    "slideshow": {
     "slide_type": "slide"
    },
    "tags": []
   },
   "source": [
    "最后再来看下美国占据全世界 GDP 总量的百分比情况"
   ]
  },
  {
   "cell_type": "code",
   "execution_count": null,
   "metadata": {
    "id": "7B8621B06A6C4F748E7E3AE5A21339A7",
    "jupyter": {},
    "slideshow": {
     "slide_type": "slide"
    },
    "tags": []
   },
   "outputs": [],
   "source": [
    "world_gdp = 85.8\n",
    "def liquid_base(country, gdp) -> Liquid:\n",
    "    c = (\n",
    "        Liquid()\n",
    "        .add(\"lq\", [gdp/world_gdp])\n",
    "        .set_global_opts(title_opts=opts.TitleOpts(title=\"%s GDP 总量占比世界\" % country))\n",
    "    )\n",
    "    return c"
   ]
  },
  {
   "cell_type": "code",
   "execution_count": null,
   "metadata": {
    "id": "95F1F8AA6A8C4D1C844C92D864FBFD88",
    "jupyter": {},
    "slideshow": {
     "slide_type": "slide"
    },
    "tags": []
   },
   "outputs": [],
   "source": [
    "liquid_base(\"美国\", 20.4941).render_notebook()"
   ]
  },
  {
   "cell_type": "markdown",
   "metadata": {
    "id": "D91E501F9D404101816517FF5B702903",
    "jupyter": {},
    "mdEditEnable": false,
    "slideshow": {
     "slide_type": "slide"
    },
    "tags": []
   },
   "source": [
    "看图不说话。\n",
    "\n",
    "## 中等收入国家\n",
    "\n",
    "**接下来看看中等收入国家的 top10 情况**"
   ]
  },
  {
   "cell_type": "code",
   "execution_count": null,
   "metadata": {
    "id": "ECDF8754B8D442D58FBED415615A4F78",
    "jupyter": {},
    "slideshow": {
     "slide_type": "slide"
    },
    "tags": []
   },
   "outputs": [],
   "source": [
    "# 中高等收入国家\n",
    "mid_high = country_data[country_data['Income_Group'] == '中高等收入国家']\n",
    "mid_high_gdp = pd.merge(mid_high, gdp, how='inner')\n",
    "mid_high_gdp['2018'] = mid_high_gdp['2018'].apply(lambda x: x/1000000000000)\n",
    "mid_high_gdp_top10 = mid_high_gdp[['Country Name', 'Country Code', '2018']].sort_values(by='2018', ascending=False)[:10]\n",
    "mid_high_gdp_top20 = mid_high_gdp[['Country Name', 'Country Code', '2018']].sort_values(by='2018', ascending=False)[:20]"
   ]
  },
  {
   "cell_type": "code",
   "execution_count": null,
   "metadata": {
    "id": "4FFE77C4C142435B93B7BAD14149F381",
    "jupyter": {},
    "slideshow": {
     "slide_type": "slide"
    },
    "tags": []
   },
   "outputs": [],
   "source": [
    "bar = Bar()\n",
    "bar.add_xaxis(mid_high_gdp_top10['Country Name'].values.tolist())\n",
    "bar.add_yaxis(\"\", mid_high_gdp_top10['2018'].values.tolist())\n",
    "bar.reversal_axis()\n",
    "bar.set_series_opts(label_opts=opts.LabelOpts(position=\"right\"))\n",
    "bar.set_global_opts(title_opts=opts.TitleOpts(title=\"中高等收入国家GDP Top10\", subtitle=\"\"),\n",
    "                   xaxis_opts=opts.AxisOpts(\n",
    "                axislabel_opts=opts.LabelOpts(formatter=\"{value} /万亿\")\n",
    "            ),)\n",
    "bar.render_notebook()"
   ]
  },
  {
   "cell_type": "markdown",
   "metadata": {
    "id": "193AFF9A7E6D4E948ED74857463FA6BC",
    "jupyter": {},
    "mdEditEnable": false,
    "slideshow": {
     "slide_type": "slide"
    },
    "tags": []
   },
   "source": [
    "基本上都是发展中大国，其中还不乏南非、阿根廷等即将成为发达国家的选手。而我国则以13.6万亿的总量，成为美国之后另一个巨无霸般的存在。\n",
    "\n",
    "**来看看中美两个总体上占据世界 GDP 的比例情况**"
   ]
  },
  {
   "cell_type": "code",
   "execution_count": null,
   "metadata": {
    "id": "4DE3D551CBEA4D69BEEF5521A8099211",
    "jupyter": {},
    "slideshow": {
     "slide_type": "slide"
    },
    "tags": []
   },
   "outputs": [],
   "source": [
    "liquid_base(\"中美\", 34.1022).render_notebook()"
   ]
  },
  {
   "cell_type": "markdown",
   "metadata": {
    "id": "644128D4DDB14D648AAF0D3FBEA5AA91",
    "jupyter": {},
    "mdEditEnable": false,
    "slideshow": {
     "slide_type": "slide"
    },
    "tags": []
   },
   "source": [
    "毫无疑问，这两个 GDP 总量占去世界 GDP 总量40%的国家，绝对是世界经济的命脉，相互合作，携手共赢才是世界经济的未来！\n",
    "\n",
    "**再来看下 top20 的情况**"
   ]
  },
  {
   "cell_type": "code",
   "execution_count": null,
   "metadata": {
    "id": "5F0476273A1049F5BE6B0443A53348D4",
    "jupyter": {},
    "slideshow": {
     "slide_type": "slide"
    },
    "tags": []
   },
   "outputs": [],
   "source": [
    "bar = Bar()\n",
    "bar.add_xaxis(mid_high_gdp_top20['Country Name'].values.tolist())\n",
    "bar.add_yaxis(\"\", mid_high_gdp_top20['2018'].values.tolist())\n",
    "bar.reversal_axis()\n",
    "bar.set_series_opts(label_opts=opts.LabelOpts(position=\"right\"))\n",
    "bar.set_global_opts(title_opts=opts.TitleOpts(title=\"中高等收入国家GDP Top20\", subtitle=\"\"),\n",
    "                   xaxis_opts=opts.AxisOpts(\n",
    "                axislabel_opts=opts.LabelOpts(formatter=\"{value} /万亿\")\n",
    "            ),)\n",
    "bar.render_notebook()"
   ]
  },
  {
   "cell_type": "markdown",
   "metadata": {
    "id": "730B5A5DBEA44AC4872A6EF9EF466466",
    "jupyter": {},
    "mdEditEnable": false,
    "slideshow": {
     "slide_type": "slide"
    },
    "tags": []
   },
   "source": [
    "## 中低等收入国家\n",
    "\n",
    "下面就是中低等收入的国家了，还是有很多熟悉的面孔啊"
   ]
  },
  {
   "cell_type": "code",
   "execution_count": null,
   "metadata": {
    "id": "30799C4E1A2D44008A3F1D6C2700C582",
    "jupyter": {},
    "slideshow": {
     "slide_type": "slide"
    },
    "tags": []
   },
   "outputs": [],
   "source": [
    "# 中低等收入国家\n",
    "mid_low = country_data[country_data['Income_Group'] == '中低等收入国家']\n",
    "mid_low_gdp = pd.merge(mid_low, gdp, how='inner')\n",
    "mid_low_gdp['2018'] = mid_low_gdp['2018'].apply(lambda x: x/1000000000000)\n",
    "mid_low_gdp_top10 = mid_low_gdp[['Country Name', 'Country Code', '2018']].sort_values(by='2018', ascending=False)[:10]\n",
    "mid_low_gdp_top20 = mid_low_gdp[['Country Name', 'Country Code', '2018']].sort_values(by='2018', ascending=False)[:20]"
   ]
  },
  {
   "cell_type": "code",
   "execution_count": null,
   "metadata": {
    "id": "3A87A4A5B47342F1BB54AE1017813F2F",
    "jupyter": {},
    "slideshow": {
     "slide_type": "slide"
    },
    "tags": []
   },
   "outputs": [],
   "source": [
    "bar = Bar()\n",
    "bar.add_xaxis(mid_low_gdp_top10['Country Name'].values.tolist())\n",
    "bar.add_yaxis(\"\", mid_low_gdp_top10['2018'].values.tolist())\n",
    "bar.reversal_axis()\n",
    "bar.set_series_opts(label_opts=opts.LabelOpts(position=\"right\"))\n",
    "bar.set_global_opts(title_opts=opts.TitleOpts(title=\"中低等收入国家GDP Top10\", subtitle=\"\"),\n",
    "                   xaxis_opts=opts.AxisOpts(\n",
    "                axislabel_opts=opts.LabelOpts(formatter=\"{value} /万亿\")\n",
    "            ),)\n",
    "bar.render_notebook()"
   ]
  },
  {
   "cell_type": "markdown",
   "metadata": {
    "id": "06B757D613E1407E921F81EC97D006CC",
    "jupyter": {},
    "mdEditEnable": false,
    "slideshow": {
     "slide_type": "slide"
    },
    "tags": []
   },
   "source": [
    "在这个级别当中，亚洲国家占据了大多数，但是 GDP 的总量却不是很低，尤其是印度，有2.7万亿的数量。这也能反映出，亚洲作为世界上人口最多的大洲，要走向发达国家的行列，还是任重道远啊！\n",
    "\n",
    "**top20 情况**"
   ]
  },
  {
   "cell_type": "code",
   "execution_count": null,
   "metadata": {
    "id": "F32431625C0C45D084C370D9B3894182",
    "jupyter": {},
    "slideshow": {
     "slide_type": "slide"
    },
    "tags": []
   },
   "outputs": [],
   "source": [
    "bar = Bar()\n",
    "bar.add_xaxis(mid_low_gdp_top20['Country Name'].values.tolist())\n",
    "bar.add_yaxis(\"\", mid_low_gdp_top20['2018'].values.tolist())\n",
    "bar.reversal_axis()\n",
    "bar.set_series_opts(label_opts=opts.LabelOpts(position=\"right\"))\n",
    "bar.set_global_opts(title_opts=opts.TitleOpts(title=\"中低等收入国家GDP Top20\", subtitle=\"\"),\n",
    "                   xaxis_opts=opts.AxisOpts(\n",
    "                axislabel_opts=opts.LabelOpts(formatter=\"{value} /万亿\")\n",
    "            ),)\n",
    "bar.render_notebook()"
   ]
  },
  {
   "cell_type": "markdown",
   "metadata": {
    "id": "49261B1515DE4DD084A53EA043188BFF",
    "jupyter": {},
    "mdEditEnable": false,
    "slideshow": {
     "slide_type": "slide"
    },
    "tags": []
   },
   "source": [
    "## 低收入国家\n",
    "\n",
    "最后就是低收入国家了，可以看到，在这些国家中，要不就是战乱频仍的国度，要不就是资源匮乏的小国，他们的经济建设之路还很漫长呢。"
   ]
  },
  {
   "cell_type": "code",
   "execution_count": null,
   "metadata": {
    "id": "69625A237CA54C578ED9D0B99FD24A51",
    "jupyter": {},
    "slideshow": {
     "slide_type": "slide"
    },
    "tags": []
   },
   "outputs": [],
   "source": [
    "# 低等收入国家\n",
    "low = country_data[country_data['Income_Group'] == '低收入国家']\n",
    "low_gdp = pd.merge(low, gdp, how='inner')\n",
    "low_gdp['2018'] = low_gdp['2018'].apply(lambda x: x/1000000000000)\n",
    "low_gdp_top10 = low_gdp[['Country Name', 'Country Code', '2018']].sort_values(by='2018', ascending=False)[:10]\n",
    "low_gdp_top20 = low_gdp[['Country Name', 'Country Code', '2018']].sort_values(by='2018', ascending=False)[:20]"
   ]
  },
  {
   "cell_type": "code",
   "execution_count": null,
   "metadata": {
    "id": "A2BD6DEE8F8246B280FE6631B656B88B",
    "jupyter": {},
    "slideshow": {
     "slide_type": "slide"
    },
    "tags": []
   },
   "outputs": [],
   "source": [
    "bar = Bar()\n",
    "bar.add_xaxis(low_gdp_top10['Country Name'].values.tolist())\n",
    "bar.add_yaxis(\"\", low_gdp_top10['2018'].values.tolist())\n",
    "bar.reversal_axis()\n",
    "bar.set_series_opts(label_opts=opts.LabelOpts(position=\"right\"))\n",
    "bar.set_global_opts(title_opts=opts.TitleOpts(title=\"低等收入国家GDP Top10\", subtitle=\"\"),\n",
    "                   xaxis_opts=opts.AxisOpts(\n",
    "                axislabel_opts=opts.LabelOpts(formatter=\"{value} /万亿\")\n",
    "            ),)\n",
    "bar.render_notebook()"
   ]
  },
  {
   "cell_type": "markdown",
   "metadata": {
    "id": "547CA3868D0A4664AB0061B10CA81462",
    "jupyter": {},
    "mdEditEnable": false,
    "slideshow": {
     "slide_type": "slide"
    },
    "tags": []
   },
   "source": [
    "**top20 的情况**"
   ]
  },
  {
   "cell_type": "code",
   "execution_count": null,
   "metadata": {
    "id": "D815F22D92C64AAA8026CC73FB3EA051",
    "jupyter": {},
    "slideshow": {
     "slide_type": "slide"
    },
    "tags": []
   },
   "outputs": [],
   "source": [
    "bar = Bar()\n",
    "bar.add_xaxis(low_gdp_top20['Country Name'].values.tolist())\n",
    "bar.add_yaxis(\"\", low_gdp_top20['2018'].values.tolist())\n",
    "bar.reversal_axis()\n",
    "bar.set_series_opts(label_opts=opts.LabelOpts(position=\"right\"))\n",
    "bar.set_global_opts(title_opts=opts.TitleOpts(title=\"低等收入国家GDP Top20\", subtitle=\"\"),\n",
    "                   xaxis_opts=opts.AxisOpts(\n",
    "                axislabel_opts=opts.LabelOpts(formatter=\"{value} /万亿\")\n",
    "            ),)\n",
    "bar.render_notebook()"
   ]
  },
  {
   "cell_type": "markdown",
   "metadata": {
    "id": "07D30090447A415F8CDA799B219AA72B",
    "jupyter": {},
    "mdEditEnable": false,
    "slideshow": {
     "slide_type": "slide"
    },
    "tags": []
   },
   "source": [
    "# GDP 总体排行\n",
    "## 2018年 GDP 排行\n",
    "\n",
    "\n",
    "\n"
   ]
  },
  {
   "cell_type": "code",
   "execution_count": null,
   "metadata": {
    "id": "E43A4E381E574B6186F27DFB80A1B2DD",
    "jupyter": {},
    "slideshow": {
     "slide_type": "slide"
    },
    "tags": []
   },
   "outputs": [],
   "source": [
    "country_gdp = pd.merge(country_data, gdp, how='inner')\n",
    "#country_gdp"
   ]
  },
  {
   "cell_type": "code",
   "execution_count": null,
   "metadata": {
    "id": "05CF827D83EE419D8D33EF1729DD49A4",
    "jupyter": {},
    "slideshow": {
     "slide_type": "slide"
    },
    "tags": []
   },
   "outputs": [],
   "source": [
    "country_gdp[['Country Name', 'Country Code', '2018']].sort_values(by='2018', ascending=False)[:60]"
   ]
  },
  {
   "cell_type": "code",
   "execution_count": null,
   "metadata": {
    "id": "C9B8482C62FA4D438114E10B52F2E1A1",
    "jupyter": {},
    "slideshow": {
     "slide_type": "slide"
    },
    "tags": []
   },
   "outputs": [],
   "source": [
    "# 查看倒数排名\n",
    "#country_gdp.dropna(subset=['2018'])[['Country Name', 'Country Code', '2018']].sort_values(by='2018', ascending=False)[-20:]"
   ]
  },
  {
   "cell_type": "code",
   "execution_count": null,
   "metadata": {
    "id": "CFFA429CA15C4B728EF091CBBE876435",
    "jupyter": {},
    "slideshow": {
     "slide_type": "slide"
    },
    "tags": []
   },
   "outputs": [],
   "source": [
    "# GDP转换成万亿单位\n",
    "for i in range(1960, 2019):\n",
    "    country_gdp[str(i)] = country_gdp[str(i)].apply(lambda x: x/1000000000000)\n",
    "#country_gdp"
   ]
  },
  {
   "cell_type": "markdown",
   "metadata": {
    "id": "C02CBA00A2AC42908449765E95813EDB",
    "jupyter": {},
    "mdEditEnable": false,
    "slideshow": {
     "slide_type": "slide"
    },
    "tags": []
   },
   "source": [
    "先来看看2018年 GDP 总体排行的 top10 吧"
   ]
  },
  {
   "cell_type": "code",
   "execution_count": null,
   "metadata": {
    "id": "1513010E43CE4935BBF85178F65A5DCF",
    "jupyter": {},
    "slideshow": {
     "slide_type": "slide"
    },
    "tags": []
   },
   "outputs": [],
   "source": [
    "# 2018年GDP前十名\n",
    "country_gdp_top10 = country_gdp[['Country Name', 'Country Code', '2018']].sort_values(by='2018', ascending=False)[:10]\n",
    "bar = Bar()\n",
    "bar.add_xaxis(country_gdp_top10['Country Name'].values.tolist())\n",
    "bar.add_yaxis(\"\", country_gdp_top10['2018'].values.tolist())\n",
    "bar.reversal_axis()\n",
    "bar.set_series_opts(label_opts=opts.LabelOpts(position=\"right\"))\n",
    "bar.set_global_opts(title_opts=opts.TitleOpts(title=\"2018年GDP Top10\", subtitle=\"\"),\n",
    "                   xaxis_opts=opts.AxisOpts(\n",
    "                axislabel_opts=opts.LabelOpts(formatter=\"{value} /万亿\")\n",
    "            ),)\n",
    "bar.render_notebook()"
   ]
  },
  {
   "cell_type": "markdown",
   "metadata": {
    "id": "8C74C51920B0481B9D5150D67BC3CC91",
    "jupyter": {},
    "mdEditEnable": false,
    "slideshow": {
     "slide_type": "slide"
    },
    "tags": []
   },
   "source": [
    "可以看到，除了欧美诸强之外，中国、印度和巴西也纷纷上榜，发展中大国的实力不容小觑啊。\n",
    "\n",
    "那么再来看看 GDP 总量倒数的10个国家呢"
   ]
  },
  {
   "cell_type": "code",
   "execution_count": null,
   "metadata": {
    "id": "FF58DE66DFF94FA1B753B41A73A4B224",
    "jupyter": {},
    "slideshow": {
     "slide_type": "slide"
    },
    "tags": []
   },
   "outputs": [],
   "source": [
    "# top20 国家历年GDP\n",
    "country_gdp_top20 = country_gdp.drop(columns=['Region', 'Income_Group', 'Unnamed: 4', 'Indicator Name', 'Indicator Code', '2019', 'Unnamed: 64']).sort_values(by='2018', ascending=False)[:20]\n",
    "# GDP转换成万亿单位\n",
    "for i in range(1960, 2019):\n",
    "    country_gdp_top20[str(i)] = country_gdp_top20[str(i)].apply(lambda x: x*1000000000000)\n",
    "\n",
    "country_gdp_top20"
   ]
  },
  {
   "cell_type": "code",
   "execution_count": null,
   "metadata": {
    "id": "3B1DDE88FEBB46D894F3F6642BF63A69",
    "jupyter": {},
    "slideshow": {
     "slide_type": "slide"
    },
    "tags": []
   },
   "outputs": [],
   "source": [
    "country_list = []\n",
    "year_list = []\n",
    "value_list = []\n",
    "type_list = []\n",
    "c_list = ['美国', '中国', '日本', '德国', '英国', '法国', '印度', '意大利', '巴西', '加拿大', '俄罗斯联邦', '大韩民国', '澳大利亚', \n",
    "          '西班牙', '墨西哥', '印度尼西亚', '荷兰', '沙特阿拉伯', '土耳其', '瑞士']\n",
    "for c in c_list:\n",
    "    for i in range(1960, 2019):\n",
    "        country_list.append(c)\n",
    "        type_list.append(country_gdp_top20[country_gdp_top20['Country Name'] == c]['Country Code'].values.tolist()[0])\n",
    "        value_list.append(country_gdp_top20[country_gdp_top20['Country Name'] == c][str(i)].values.tolist()[0])\n",
    "        year_list.append(str(i))\n",
    "\n",
    "#print(len(value_list))\n",
    "#print(len(country_list))\n",
    "d = {'name': country_list, 'type': type_list, 'value': value_list, 'date': year_list}\n",
    "pd.DataFrame(d).to_csv('auto_gdp.csv', index=0)"
   ]
  },
  {
   "cell_type": "code",
   "execution_count": null,
   "metadata": {
    "id": "4DD88E08D50D4FDD8517A2D9F6B7D4F8",
    "jupyter": {},
    "slideshow": {
     "slide_type": "slide"
    },
    "tags": []
   },
   "outputs": [],
   "source": [
    "# 2018年GDP后十名\n",
    "country_gdp_bottom10 = country_gdp.dropna(subset=['2018'])[['Country Name', 'Country Code', '2018']].sort_values(by='2018', ascending=False)[-10:]"
   ]
  },
  {
   "cell_type": "code",
   "execution_count": null,
   "metadata": {
    "id": "556063A05A3F415B8C48063922BC7917",
    "jupyter": {},
    "slideshow": {
     "slide_type": "slide"
    },
    "tags": []
   },
   "outputs": [],
   "source": [
    "bar = Bar()\n",
    "bar.add_xaxis(country_gdp_bottom10['Country Name'].values.tolist())\n",
    "bar.add_yaxis(\"\", country_gdp_bottom10['2018'].values.tolist())\n",
    "bar.reversal_axis()\n",
    "bar.set_series_opts(label_opts=opts.LabelOpts(position=\"right\"))\n",
    "bar.set_global_opts(title_opts=opts.TitleOpts(title=\"2018年GDP bottom10\", subtitle=\"\"),\n",
    "                   xaxis_opts=opts.AxisOpts(\n",
    "                axislabel_opts=opts.LabelOpts(formatter=\"{value} /万亿\")\n",
    "            ),)\n",
    "bar.render_notebook()"
   ]
  },
  {
   "cell_type": "markdown",
   "metadata": {
    "id": "69F5D5F3E9EC4C3494D80F0D193F8859",
    "jupyter": {},
    "mdEditEnable": false,
    "slideshow": {
     "slide_type": "slide"
    },
    "tags": []
   },
   "source": [
    "\n",
    "### 历年GDP倒数分析"
   ]
  },
  {
   "cell_type": "code",
   "execution_count": null,
   "metadata": {
    "id": "E99FBB6378794D0A9AF322AC54654119",
    "jupyter": {},
    "slideshow": {
     "slide_type": "slide"
    },
    "tags": []
   },
   "outputs": [],
   "source": [
    "df_tuwalu = country_gdp[country_gdp['Country Name']=='图瓦卢']\n",
    "\n",
    "df_naolu = country_gdp[country_gdp['Country Name']=='瑙魯']\n",
    "\n",
    "df_jilibasi = country_gdp[country_gdp['Country Name']=='基里巴斯']\n",
    "\n",
    "df_mashaoerqundao = country_gdp[country_gdp['Country Name']=='马绍尔群岛']\n",
    "    \n",
    "df_palao = country_gdp[country_gdp['Country Name']=='帕劳']\n",
    "year_str = [str(i) for i in range(1960, 2019)]"
   ]
  },
  {
   "cell_type": "code",
   "execution_count": null,
   "metadata": {
    "id": "277A2E7CA97642638FCC475C08246349",
    "jupyter": {},
    "slideshow": {
     "slide_type": "slide"
    },
    "tags": []
   },
   "outputs": [],
   "source": [
    "tuwalu_gdp = df_tuwalu[year_str].values.tolist()[0]\n",
    "naolu_gdp = df_naolu[year_str].values.tolist()[0]\n",
    "jilibasi_gdp = df_jilibasi[year_str].values.tolist()[0]\n",
    "mashaoerqundao_gdp = df_mashaoerqundao[year_str].values.tolist()[0]\n",
    "palao_gdp = df_palao[year_str].values.tolist()[0]"
   ]
  },
  {
   "cell_type": "markdown",
   "metadata": {
    "id": "D5A6829FCB474D9588448C6FFF1DFDEC",
    "jupyter": {},
    "mdEditEnable": false,
    "slideshow": {
     "slide_type": "slide"
    },
    "tags": []
   },
   "source": [
    "\n",
    "### 历年GDP正数分析"
   ]
  },
  {
   "cell_type": "code",
   "execution_count": null,
   "metadata": {
    "id": "EA56FEE2EF5A4AB28108AFB94D1B8621",
    "jupyter": {},
    "slideshow": {
     "slide_type": "slide"
    },
    "tags": []
   },
   "outputs": [],
   "source": [
    "df_china = country_gdp[country_gdp['Country Name']=='中国']\n",
    "\n",
    "df_usa = country_gdp[country_gdp['Country Name']=='美国']\n",
    "\n",
    "df_jpn = country_gdp[country_gdp['Country Name']=='日本']\n",
    "\n",
    "df_de = country_gdp[country_gdp['Country Name']=='德国']\n",
    "\n",
    "df_uk = country_gdp[country_gdp['Country Name']=='英国']"
   ]
  },
  {
   "cell_type": "code",
   "execution_count": null,
   "metadata": {
    "id": "EF1DC522062B40F2821378CD0DD77B7B",
    "jupyter": {},
    "slideshow": {
     "slide_type": "slide"
    },
    "tags": []
   },
   "outputs": [],
   "source": [
    "year_str = [str(i) for i in range(1960, 2019)]\n",
    "\n",
    "china_gdp = df_china[year_str].values.tolist()[0]\n",
    "usa_gdp = df_usa[year_str].values.tolist()[0]\n",
    "jpn_gdp = df_jpn[year_str].values.tolist()[0]\n",
    "de_gdp = df_de[year_str].values.tolist()[0]\n",
    "uk_gdp = df_uk[year_str].values.tolist()[0]\n"
   ]
  },
  {
   "cell_type": "markdown",
   "metadata": {
    "id": "21F26588D6944D50AF1DAB2288C5D58F",
    "jupyter": {},
    "mdEditEnable": false,
    "slideshow": {
     "slide_type": "slide"
    },
    "tags": []
   },
   "source": [
    "## 历年各国 GDP 走势\n",
    "我们先来看一下 GDP 总量排行前五的国家，历年 GDP 总量的走势情况\n"
   ]
  },
  {
   "cell_type": "code",
   "execution_count": null,
   "metadata": {
    "id": "F88F46E6D333498B940892C4A8B8438D",
    "jupyter": {},
    "slideshow": {
     "slide_type": "slide"
    },
    "tags": []
   },
   "outputs": [],
   "source": [
    "from pyecharts.charts import Scatter\n",
    "\n",
    "def scatter_base(choose, values, country) -> Scatter:\n",
    "    c = (\n",
    "        Scatter()\n",
    "        .add_xaxis(choose)\n",
    "        .add_yaxis(\"%s历年GDP\" % country, values)\n",
    "        .set_global_opts(title_opts=opts.TitleOpts(title=\"\"),\n",
    "                        # datazoom_opts=opts.DataZoomOpts(),\n",
    "                         yaxis_opts=opts.AxisOpts(\n",
    "                axislabel_opts=opts.LabelOpts(formatter=\"{value} /万亿\")\n",
    "            )\n",
    "                        )\n",
    "        .set_series_opts(label_opts=opts.LabelOpts(is_show=False))\n",
    "    )\n",
    "    return c"
   ]
  },
  {
   "cell_type": "markdown",
   "metadata": {
    "id": "F9FC661BFD75496AB7C5E2F64502C327",
    "jupyter": {},
    "mdEditEnable": false,
    "slideshow": {
     "slide_type": "slide"
    },
    "tags": []
   },
   "source": [
    "\n",
    "**中国**"
   ]
  },
  {
   "cell_type": "code",
   "execution_count": null,
   "metadata": {
    "id": "D631A566A5C84D3C83B19F57E45317B3",
    "jupyter": {},
    "slideshow": {
     "slide_type": "slide"
    },
    "tags": []
   },
   "outputs": [],
   "source": [
    "scatter_base(year_str, china_gdp, '中国').render_notebook()"
   ]
  },
  {
   "cell_type": "markdown",
   "metadata": {
    "id": "98DF0438B8B4447E942BD0C810D8D6C0",
    "jupyter": {},
    "mdEditEnable": false,
    "slideshow": {
     "slide_type": "slide"
    },
    "tags": []
   },
   "source": [
    "**美国**"
   ]
  },
  {
   "cell_type": "code",
   "execution_count": null,
   "metadata": {
    "id": "0A03316EDA1B4C768B739A2CE9F402A0",
    "jupyter": {},
    "slideshow": {
     "slide_type": "slide"
    },
    "tags": []
   },
   "outputs": [],
   "source": [
    "scatter_base(year_str, usa_gdp, '美国').render_notebook()"
   ]
  },
  {
   "cell_type": "markdown",
   "metadata": {
    "id": "11FE9D3288A04795B357017B1E83BB60",
    "jupyter": {},
    "mdEditEnable": false,
    "slideshow": {
     "slide_type": "slide"
    },
    "tags": []
   },
   "source": [
    "**日本**"
   ]
  },
  {
   "cell_type": "code",
   "execution_count": null,
   "metadata": {
    "id": "18C059EB3C5F47E992F9B867A0421281",
    "jupyter": {},
    "slideshow": {
     "slide_type": "slide"
    },
    "tags": []
   },
   "outputs": [],
   "source": [
    "scatter_base(year_str, jpn_gdp, '日本').render_notebook()"
   ]
  },
  {
   "cell_type": "markdown",
   "metadata": {
    "id": "DF263674F854471F96E1C26CC5A1D057",
    "jupyter": {},
    "mdEditEnable": false,
    "slideshow": {
     "slide_type": "slide"
    },
    "tags": []
   },
   "source": [
    "**德国**"
   ]
  },
  {
   "cell_type": "code",
   "execution_count": null,
   "metadata": {
    "id": "17543158163C4EE59CFB6815763C2035",
    "jupyter": {},
    "slideshow": {
     "slide_type": "slide"
    },
    "tags": []
   },
   "outputs": [],
   "source": [
    "scatter_base(year_str, de_gdp, '德国').render_notebook()"
   ]
  },
  {
   "cell_type": "markdown",
   "metadata": {
    "id": "92F9BD914D68499F87937B0CC133E87C",
    "jupyter": {},
    "mdEditEnable": false,
    "slideshow": {
     "slide_type": "slide"
    },
    "tags": []
   },
   "source": [
    "**英国**"
   ]
  },
  {
   "cell_type": "code",
   "execution_count": null,
   "metadata": {
    "id": "8CCA37DD4F87443E8FD755F147563A8D",
    "jupyter": {},
    "slideshow": {
     "slide_type": "slide"
    },
    "tags": []
   },
   "outputs": [],
   "source": [
    "scatter_base(year_str, uk_gdp, '英国').render_notebook()"
   ]
  },
  {
   "cell_type": "markdown",
   "metadata": {
    "id": "21981D18EF0743708A19AA0D63F8AAAB",
    "jupyter": {},
    "mdEditEnable": false,
    "slideshow": {
     "slide_type": "slide"
    },
    "tags": []
   },
   "source": [
    "**图瓦卢**"
   ]
  },
  {
   "cell_type": "code",
   "execution_count": null,
   "metadata": {
    "id": "1168103881B842C0891B272EC2E1E476",
    "jupyter": {},
    "slideshow": {
     "slide_type": "slide"
    },
    "tags": []
   },
   "outputs": [],
   "source": [
    "scatter_base(year_str, tuwalu_gdp, '图瓦卢').render_notebook()"
   ]
  },
  {
   "cell_type": "markdown",
   "metadata": {
    "id": "1B012EE0AD9444128235F33609A9039C",
    "jupyter": {},
    "mdEditEnable": false,
    "slideshow": {
     "slide_type": "slide"
    },
    "tags": []
   },
   "source": [
    "**瑙鲁**"
   ]
  },
  {
   "cell_type": "code",
   "execution_count": null,
   "metadata": {
    "id": "4983A127D935408A8379F4FDE03E3205",
    "jupyter": {},
    "slideshow": {
     "slide_type": "slide"
    },
    "tags": []
   },
   "outputs": [],
   "source": [
    "scatter_base(year_str, naolu_gdp, '瑙魯').render_notebook()"
   ]
  },
  {
   "cell_type": "markdown",
   "metadata": {
    "id": "ECD71573455C4F068677DAE4DAF25235",
    "jupyter": {},
    "mdEditEnable": false,
    "slideshow": {
     "slide_type": "slide"
    },
    "tags": []
   },
   "source": [
    "基里帕斯"
   ]
  },
  {
   "cell_type": "code",
   "execution_count": null,
   "metadata": {
    "id": "0BFA943E94814DCF8DB1EB154E51D77D",
    "jupyter": {},
    "slideshow": {
     "slide_type": "slide"
    },
    "tags": []
   },
   "outputs": [],
   "source": [
    "scatter_base(year_str, jilibasi_gdp, '基里帕斯').render_notebook()"
   ]
  },
  {
   "cell_type": "markdown",
   "metadata": {
    "id": "89CB384D65BC458E86FF2A66950B2035",
    "jupyter": {},
    "mdEditEnable": false,
    "slideshow": {
     "slide_type": "slide"
    },
    "tags": []
   },
   "source": [
    "可以看出，除了中美两国外，其他的国家 GDP 总量都出现过大幅度的波动情况，而持续增长的中美两国，则一骑绝尘，遥遥领先于世界了！\n",
    "\n",
    "# 世界GDP地图\n",
    "下面我们通过世界地图的方式来看看 GDP 的分布情况\n",
    "\n",
    "我们先进行数据处理，把国家代码和 GDP 数据相结合"
   ]
  },
  {
   "cell_type": "code",
   "execution_count": null,
   "metadata": {
    "id": "EB88E569F6BD494C9B5BD24BE5F27282",
    "jupyter": {},
    "slideshow": {
     "slide_type": "slide"
    },
    "tags": []
   },
   "outputs": [],
   "source": [
    "country_code = pd.read_json('GDP-data/countries.json')"
   ]
  },
  {
   "cell_type": "code",
   "execution_count": null,
   "metadata": {
    "id": "C324544A06A647BB844E63D2549CB7A6",
    "jupyter": {},
    "slideshow": {
     "slide_type": "slide"
    },
    "tags": []
   },
   "outputs": [],
   "source": [
    "country_code.rename(columns={'iso3': 'Country Code'}, inplace=True)"
   ]
  },
  {
   "cell_type": "code",
   "execution_count": null,
   "metadata": {
    "id": "63FBF5684D894B59AF4721468D3ECC07",
    "jupyter": {},
    "slideshow": {
     "slide_type": "slide"
    },
    "tags": []
   },
   "outputs": [],
   "source": [
    "conutry_code_name = country_code[['name', 'Country Code']]"
   ]
  },
  {
   "cell_type": "code",
   "execution_count": null,
   "metadata": {
    "id": "968C793ECCE240BBAA731D4840225307",
    "jupyter": {},
    "slideshow": {
     "slide_type": "slide"
    },
    "tags": []
   },
   "outputs": [],
   "source": [
    "country_gdp_code = pd.merge(country_gdp, conutry_code_name, on='Country Code', how='inner')"
   ]
  },
  {
   "cell_type": "code",
   "execution_count": null,
   "metadata": {
    "id": "04C1F36699D74484A540228035DDB99E",
    "jupyter": {},
    "slideshow": {
     "slide_type": "slide"
    },
    "tags": []
   },
   "outputs": [],
   "source": [
    "country_gdp_code[country_gdp_code['Country Name'] == '美国']"
   ]
  },
  {
   "cell_type": "code",
   "execution_count": null,
   "metadata": {
    "id": "2C3CE77E96F5410F897AC7D8EBA47961",
    "jupyter": {},
    "slideshow": {
     "slide_type": "slide"
    },
    "tags": []
   },
   "outputs": [],
   "source": [
    "map_country = country_gdp_code['name'].values.tolist()\n",
    "map_country_gdp = country_gdp_code['2018'].values.tolist()\n",
    "print(len(map_country), len(map_country_gdp))"
   ]
  },
  {
   "cell_type": "markdown",
   "metadata": {
    "id": "D90242FB5B7B4FAC85ADDBD3C9FA9005",
    "jupyter": {},
    "mdEditEnable": false,
    "slideshow": {
     "slide_type": "slide"
    },
    "tags": []
   },
   "source": [
    "由此，我们可以做出一张 GDP 总量的地图分布图"
   ]
  },
  {
   "cell_type": "code",
   "execution_count": null,
   "metadata": {
    "id": "1148E3D6E0754BB88EC66D132EA83220",
    "jupyter": {},
    "slideshow": {
     "slide_type": "slide"
    },
    "tags": []
   },
   "outputs": [],
   "source": [
    "def map_world() -> Map:\n",
    "    c = (\n",
    "        Map()\n",
    "        .add(\"GDP总量\", [list(z) for z in zip(map_country, map_country_gdp)], \"world\")\n",
    "        .set_series_opts(label_opts=opts.LabelOpts(is_show=False))\n",
    "        .set_global_opts(\n",
    "            title_opts=opts.TitleOpts(title=\"GDP总量\"),\n",
    "            visualmap_opts=opts.VisualMapOpts(max_=22, is_piecewise=True),\n",
    "        )\n",
    "    )\n",
    "    return c"
   ]
  },
  {
   "cell_type": "code",
   "execution_count": null,
   "metadata": {
    "id": "0AF87910456441A7835F921D2DE4D1E9",
    "jupyter": {},
    "slideshow": {
     "slide_type": "slide"
    },
    "tags": []
   },
   "outputs": [],
   "source": [
    "map_world().render_notebook()"
   ]
  },
  {
   "cell_type": "markdown",
   "metadata": {
    "id": "E591390E753B4C6A856D88D3EEE9AEA2",
    "jupyter": {},
    "mdEditEnable": false,
    "slideshow": {
     "slide_type": "slide"
    },
    "tags": []
   },
   "source": [
    "在这张 GDP 地图中，可以清晰的看出，美国和中国地盘大，颜色深，非常明显，隐隐有东西两强的趋势。\n",
    "\n",
    "我们再去掉中美两国，看看剩余国家的 GDP 情况"
   ]
  },
  {
   "cell_type": "code",
   "execution_count": null,
   "metadata": {
    "id": "9BDF37D558954873A842AC3B6E3BDB1B",
    "jupyter": {},
    "mdEditEnable": false,
    "slideshow": {
     "slide_type": "slide"
    },
    "tags": []
   },
   "outputs": [],
   "source": [
    "def map_world() -> Map:\n",
    "    c = (\n",
    "        Map()\n",
    "        .add(\"GDP总量\", [list(z) for z in zip(map_country, map_country_gdp)], \"world\")\n",
    "        .set_series_opts(label_opts=opts.LabelOpts(is_show=False))\n",
    "        .set_global_opts(\n",
    "            title_opts=opts.TitleOpts(title=\"GDP总量\"),\n",
    "            visualmap_opts=opts.VisualMapOpts(max_=5, is_piecewise=True),\n",
    "        )\n",
    "    )\n",
    "    return c\n",
    "map_world().render_notebook()"
   ]
  },
  {
   "cell_type": "markdown",
   "metadata": {
    "id": "57299C9382E241C29A055AD463D17576",
    "jupyter": {},
    "mdEditEnable": false,
    "slideshow": {
     "slide_type": "slide"
    },
    "tags": []
   },
   "source": [
    "在这张图中，可以看到日本、西欧和印度是一个级别的存在，而俄罗斯、加拿大、澳大利亚和巴西等是另外的一组，其余大部分的第三世界国家，则是第三组！\n",
    "# GDP 增长率\n",
    "下面我们再来看看 GDP 增长率的情况，有的国家 GDP 本来总量就高，而且增长率还非常不错，那么未来的经济形式一定前途无量；而有的国家则举步维艰，低 GDP 总量再加上惨淡的增长率，未来的日子很难啊。"
   ]
  },
  {
   "cell_type": "code",
   "execution_count": null,
   "metadata": {
    "id": "2B4742833F3240E8849BBD3E193E9E2D",
    "jupyter": {},
    "slideshow": {
     "slide_type": "slide"
    },
    "tags": []
   },
   "outputs": [],
   "source": [
    "# 增长率分析\n",
    "growth = pd.read_csv('GDP-data/growth_Data.csv')"
   ]
  },
  {
   "cell_type": "code",
   "execution_count": null,
   "metadata": {
    "id": "7354E89B49EF4047B0016DE49641D563",
    "jupyter": {},
    "slideshow": {
     "slide_type": "slide"
    },
    "tags": []
   },
   "outputs": [],
   "source": [
    "growth_data = pd.merge(country_data, growth, how='inner')"
   ]
  },
  {
   "cell_type": "markdown",
   "metadata": {
    "id": "0A40C6F1F28C45928A3E2E0F02B89C7C",
    "jupyter": {},
    "mdEditEnable": false,
    "slideshow": {
     "slide_type": "slide"
    },
    "tags": []
   },
   "source": [
    "**增长率 top10**"
   ]
  },
  {
   "cell_type": "code",
   "execution_count": null,
   "metadata": {
    "id": "5351B2739E63413882CC2CBEB87BAE12",
    "jupyter": {},
    "slideshow": {
     "slide_type": "slide"
    },
    "tags": []
   },
   "outputs": [],
   "source": [
    "country_growth_top10 = growth_data[['Country Name', 'Country Code', '2018 [YR2018]']].sort_values(by='2018 [YR2018]', ascending=False)[:10]"
   ]
  },
  {
   "cell_type": "code",
   "execution_count": null,
   "metadata": {
    "id": "BBCC5302ED5742279C0CA7D1E24E438B",
    "jupyter": {},
    "slideshow": {
     "slide_type": "slide"
    },
    "tags": []
   },
   "outputs": [],
   "source": [
    "bar = Bar()\n",
    "bar.add_xaxis(country_growth_top10['Country Name'].values.tolist())\n",
    "bar.add_yaxis(\"\", country_growth_top10['2018 [YR2018]'].values.tolist())\n",
    "bar.reversal_axis()\n",
    "bar.set_series_opts(label_opts=opts.LabelOpts(position=\"right\"))\n",
    "bar.set_global_opts(title_opts=opts.TitleOpts(title=\"2018年GDP增长率top10\", subtitle=\"\"),\n",
    "                   xaxis_opts=opts.AxisOpts(\n",
    "                axislabel_opts=opts.LabelOpts(formatter=\"{value} /年百分比\")\n",
    "            ),)\n",
    "bar.render_notebook()"
   ]
  },
  {
   "cell_type": "markdown",
   "metadata": {
    "id": "4A662EE71D8A44559DA712F68C1A3913",
    "jupyter": {},
    "mdEditEnable": false,
    "slideshow": {
     "slide_type": "slide"
    },
    "tags": []
   },
   "source": [
    "在这份增长率 top10 榜单中，大部分的国家都是 GDP 较低的国家，这还是说明低 GDP 的增长空间是更加大的。\n",
    "\n",
    "而印度则不一样，它本身的 GDP 总量已经非常高了，竟然还有这么高的 GDP 增长率，其未来的经济一片大好啊！\n",
    "\n",
    "\n",
    "**增长率 bottom10**\n",
    "\n",
    "\n",
    "再来看下增长率排名垫底的10个国家，这就比较闹心了"
   ]
  },
  {
   "cell_type": "code",
   "execution_count": null,
   "metadata": {
    "id": "58D3669E9CE34EEDAD76B3C9713CBA00",
    "jupyter": {},
    "slideshow": {
     "slide_type": "slide"
    },
    "tags": []
   },
   "outputs": [],
   "source": [
    "country_growth_bottom10 = growth_data[['Country Name', 'Country Code', '2018 [YR2018]']].sort_values(by='2018 [YR2018]', ascending=False)[-10:]"
   ]
  },
  {
   "cell_type": "code",
   "execution_count": null,
   "metadata": {
    "id": "2CA434048E2445918C64422DA6BE23B9",
    "jupyter": {},
    "slideshow": {
     "slide_type": "slide"
    },
    "tags": []
   },
   "outputs": [],
   "source": [
    "bar = Bar()\n",
    "bar.add_xaxis(country_growth_bottom10['Country Name'].values.tolist())\n",
    "bar.add_yaxis(\"\", country_growth_bottom10['2018 [YR2018]'].values.tolist())\n",
    "bar.reversal_axis()\n",
    "bar.set_series_opts(label_opts=opts.LabelOpts(position=\"right\"))\n",
    "bar.set_global_opts(title_opts=opts.TitleOpts(title=\"2018年GDP增长率bottom10\", subtitle=\"\"),\n",
    "                   xaxis_opts=opts.AxisOpts(\n",
    "                axislabel_opts=opts.LabelOpts(formatter=\"{value} /年百分比\")\n",
    "            ),)\n",
    "bar.render_notebook()"
   ]
  },
  {
   "cell_type": "markdown",
   "metadata": {
    "id": "B1D4E41B50344C818D1FFFF18020BD4A",
    "jupyter": {},
    "mdEditEnable": false,
    "slideshow": {
     "slide_type": "slide"
    },
    "tags": []
   },
   "source": [
    "GDP 负增长就是说经济在后退啊，如何振兴经济应该是这些国家的首要任务了！\n",
    "# 中美印对比"
   ]
  },
  {
   "cell_type": "code",
   "execution_count": null,
   "metadata": {
    "id": "4FC0B0928A6E40648ED7803B48492975",
    "jupyter": {},
    "slideshow": {
     "slide_type": "slide"
    },
    "tags": []
   },
   "outputs": [],
   "source": [
    "growth_china = growth_data[growth_data['Country Name']=='中国']\n",
    "growth_usa = growth_data[growth_data['Country Name']=='美国']\n",
    "growth_ind = growth_data[growth_data['Country Name']=='印度']"
   ]
  },
  {
   "cell_type": "code",
   "execution_count": null,
   "metadata": {
    "id": "5998AB82145145418A4281473646A1EF",
    "jupyter": {},
    "slideshow": {
     "slide_type": "slide"
    },
    "tags": []
   },
   "outputs": [],
   "source": [
    "def scatter_growth(choose, values, country) -> Scatter:\n",
    "    c = (\n",
    "        Scatter()\n",
    "        .add_xaxis(choose)\n",
    "        .add_yaxis(\"%s历年GDP增长率\" % country, values)\n",
    "        .set_global_opts(title_opts=opts.TitleOpts(title=\"\"),\n",
    "                        yaxis_opts=opts.AxisOpts(\n",
    "                        axislabel_opts=opts.LabelOpts(formatter=\"{value} /年百分比\"),\n",
    "                        ),\n",
    "                        xaxis_opts=opts.AxisOpts(axislabel_opts=opts.LabelOpts(rotate=-30)),\n",
    "            )\n",
    "        .set_series_opts(label_opts=opts.LabelOpts(is_show=False))\n",
    "    )\n",
    "    return c"
   ]
  },
  {
   "cell_type": "markdown",
   "metadata": {
    "id": "A5C22CE510F6457BA1991C1719EB54F3",
    "jupyter": {},
    "mdEditEnable": false,
    "slideshow": {
     "slide_type": "slide"
    },
    "tags": []
   },
   "source": [
    "**中国历年GDP增长率**"
   ]
  },
  {
   "cell_type": "code",
   "execution_count": null,
   "metadata": {
    "id": "F0E15C5E3212488C85CFD48AB44F2252",
    "jupyter": {},
    "slideshow": {
     "slide_type": "slide"
    },
    "tags": []
   },
   "outputs": [],
   "source": [
    "year_str_new = [str(i)+ \" [YR%s]\" % i for i in range(2010, 2019)]\n",
    "year_str_new1 = [str(i) for i in range(2010, 2019)]\n",
    "\n",
    "china_growth = growth_china[year_str_new].values.tolist()[0]\n",
    "china_growth = list(map(float, china_growth))\n",
    "print(china_growth)\n",
    "scatter_growth(year_str_new1, china_growth, '中国').render_notebook()"
   ]
  },
  {
   "cell_type": "markdown",
   "metadata": {
    "id": "559A7C0D575249A686BF5645E5CFB674",
    "jupyter": {},
    "mdEditEnable": false,
    "slideshow": {
     "slide_type": "slide"
    },
    "tags": []
   },
   "source": [
    "**美国历年GDP增长率**"
   ]
  },
  {
   "cell_type": "code",
   "execution_count": null,
   "metadata": {
    "id": "E0024EB6584043C684CBB9F53FF93F16",
    "jupyter": {},
    "slideshow": {
     "slide_type": "slide"
    },
    "tags": []
   },
   "outputs": [],
   "source": [
    "usa_growth = growth_usa[year_str_new].values.tolist()[0]\n",
    "print(usa_growth)\n",
    "scatter_growth(year_str_new1, usa_growth, '美国').render_notebook()"
   ]
  },
  {
   "cell_type": "markdown",
   "metadata": {
    "id": "2BC227DB5870496F8881679174FF3BFE",
    "jupyter": {},
    "mdEditEnable": false,
    "slideshow": {
     "slide_type": "slide"
    },
    "tags": []
   },
   "source": [
    "**印度历年增长率**"
   ]
  },
  {
   "cell_type": "code",
   "execution_count": null,
   "metadata": {
    "id": "71480FE6A5814FCD82F1F357B3D086EC",
    "jupyter": {},
    "slideshow": {
     "slide_type": "slide"
    },
    "tags": []
   },
   "outputs": [],
   "source": [
    "ind_growth = growth_ind[year_str_new].values.tolist()[0]\n",
    "df_ind = country_gdp[country_gdp['Country Name']=='印度']\n",
    "ind_gdp = df_ind[year_str].values.tolist()[0]\n",
    "\n",
    "print(ind_growth)\n",
    "scatter_growth(year_str_new1, usa_growth, '印度').render_notebook()"
   ]
  },
  {
   "cell_type": "markdown",
   "metadata": {
    "id": "2ECA4B43FB404077B40D465CE02CEB1E",
    "jupyter": {},
    "mdEditEnable": false,
    "slideshow": {
     "slide_type": "slide"
    },
    "tags": []
   },
   "source": [
    "## 中美印增长率对比"
   ]
  },
  {
   "cell_type": "code",
   "execution_count": null,
   "metadata": {
    "id": "44671BD6D25C4EF7A86A32ECDFEA4069",
    "jupyter": {},
    "slideshow": {
     "slide_type": "slide"
    },
    "tags": []
   },
   "outputs": [],
   "source": [
    "def overlap_line_scatter() -> Bar:\n",
    "    scatter = (\n",
    "        Scatter()\n",
    "        .add_xaxis(year_str_new1)\n",
    "        .add_yaxis(\"中国历年GDP增长率\", china_growth)\n",
    "        .add_yaxis(\"美国历年GDP增长率\", usa_growth)\n",
    "        .add_yaxis(\"印度历年GDP增长率\", ind_growth)\n",
    "        .extend_axis(\n",
    "            yaxis=opts.AxisOpts(\n",
    "                axislabel_opts=opts.LabelOpts(formatter=\"{value} 万亿\"), interval=5\n",
    "            )\n",
    "        )\n",
    "        .set_global_opts(title_opts=opts.TitleOpts(title=\"\"),\n",
    "                        yaxis_opts=opts.AxisOpts(\n",
    "                        axislabel_opts=opts.LabelOpts(formatter=\"{value} /年百分比\"),\n",
    "                        ),\n",
    "                        xaxis_opts=opts.AxisOpts(axislabel_opts=opts.LabelOpts(rotate=-30)),\n",
    "            )\n",
    "        .set_series_opts(label_opts=opts.LabelOpts(is_show=False))\n",
    "    )\n",
    "    line = (\n",
    "        Line()\n",
    "        .add_xaxis(year_str[-9:])\n",
    "        .add_yaxis(\"中国历年 GDP 总量\", china_gdp[-9:], yaxis_index=1)\n",
    "        .add_yaxis(\"美国历年 GDP 总量\", usa_gdp[-9:], yaxis_index=1)\n",
    "        .add_yaxis(\"印度历年 GDP 总量\", ind_gdp[-9:], yaxis_index=1)\n",
    "        .set_series_opts(label_opts=opts.LabelOpts(is_show=False))\n",
    "    )\n",
    "    scatter.overlap(line)\n",
    "    return scatter\n",
    "\n",
    "overlap_line_scatter().render_notebook()"
   ]
  },
  {
   "cell_type": "code",
   "execution_count": null,
   "metadata": {
    "id": "80D74BD2FE39492E8352A203A1D51866",
    "jupyter": {},
    "slideshow": {
     "slide_type": "slide"
    },
    "tags": []
   },
   "outputs": [],
   "source": [
    "country_growth_code = pd.merge(growth_data, conutry_code_name, on='Country Code', how='inner')"
   ]
  },
  {
   "cell_type": "markdown",
   "metadata": {
    "id": "DF7DA9CAB0004DAE8D0665895B82F2B1",
    "jupyter": {},
    "mdEditEnable": false,
    "slideshow": {
     "slide_type": "slide"
    },
    "tags": []
   },
   "source": [
    "在图中可以看出，虽然近些年印度保持着很高的增长率，但是 GDP 总量增长并没有中美两国明显。\n",
    "\n",
    "而美国的增长率常年在2%和1%之间震荡，好像还蛮有规律的。\n",
    "\n",
    "对于我国来说，增长率已经从以前恐怖的10%慢慢回落了，但是经济增长的趋势是没法阻挡的！\n",
    "\n",
    "# 增长率地图\n",
    "\n",
    "最后还是在世界地图中整体看看 GDP 增长率的分布情况"
   ]
  },
  {
   "cell_type": "code",
   "execution_count": null,
   "metadata": {
    "id": "D3F36FC25A1440E1824AEA3F7199C40E",
    "jupyter": {},
    "slideshow": {
     "slide_type": "slide"
    },
    "tags": []
   },
   "outputs": [],
   "source": [
    "map_country = country_growth_code['name'].values.tolist()\n",
    "map_country_gdp = country_growth_code['2018 [YR2018]'].values.tolist()\n",
    "print(len(map_country), len(map_country_gdp))\n",
    "def map_world_growth() -> Map:\n",
    "    c = (\n",
    "        Map()\n",
    "        .add(\"GDP增长率\", [list(z) for z in zip(map_country, map_country_gdp)], \"world\")\n",
    "        .set_series_opts(label_opts=opts.LabelOpts(is_show=False))\n",
    "        .set_global_opts(\n",
    "            title_opts=opts.TitleOpts(title=\"GDP增长率\"),\n",
    "            visualmap_opts=opts.VisualMapOpts(max_=10, min_=-5, is_piecewise=True),\n",
    "        )\n",
    "    )\n",
    "    return c"
   ]
  },
  {
   "cell_type": "code",
   "execution_count": null,
   "metadata": {
    "id": "D6AB05E5BA644C7C84E145BC3F6A1253",
    "jupyter": {},
    "slideshow": {
     "slide_type": "slide"
    },
    "tags": []
   },
   "outputs": [],
   "source": [
    "map_world_growth().render_notebook()"
   ]
  },
  {
   "cell_type": "markdown",
   "metadata": {
    "id": "E2FE7EAC12CC48E79637304592CA436D",
    "jupyter": {},
    "mdEditEnable": false,
    "slideshow": {
     "slide_type": "slide"
    },
    "tags": []
   },
   "source": [
    "## 中美GDP回归模型"
   ]
  },
  {
   "cell_type": "code",
   "execution_count": null,
   "metadata": {
    "id": "2BB9DE6C28CB4CEF8B038813F91DFE6C",
    "jupyter": {},
    "slideshow": {
     "slide_type": "slide"
    },
    "tags": []
   },
   "outputs": [],
   "source": [
    "import sklearn.pipeline as pl\n",
    "import sklearn.linear_model as lm\n",
    "import sklearn.preprocessing as sp\n",
    "import matplotlib.pyplot as mp\n",
    "import numpy as np\n",
    "import sklearn.metrics as sm"
   ]
  },
  {
   "cell_type": "code",
   "execution_count": null,
   "metadata": {
    "id": "2204DA9A73034F868B9FFD49A9526E6E",
    "jupyter": {},
    "slideshow": {
     "slide_type": "slide"
    },
    "tags": []
   },
   "outputs": [],
   "source": [
    "year = [i for i in range(1960, 2019)]\n",
    "X = np.array(year)\n",
    "X = X.reshape(-1, 1)"
   ]
  },
  {
   "cell_type": "code",
   "execution_count": null,
   "metadata": {
    "id": "E6C6764407004C4F85FD7D1ABFD1A63B",
    "jupyter": {},
    "slideshow": {
     "slide_type": "slide"
    },
    "tags": []
   },
   "outputs": [],
   "source": [
    "y = usa_gdp"
   ]
  },
  {
   "cell_type": "code",
   "execution_count": null,
   "metadata": {
    "id": "4C7E04BA68F24BE6A9E75D5CEEAC222A",
    "jupyter": {},
    "slideshow": {
     "slide_type": "slide"
    },
    "tags": []
   },
   "outputs": [],
   "source": [
    "model = pl.make_pipeline(\n",
    "    sp.PolynomialFeatures(5),  # 多项式特征拓展器\n",
    "    lm.LinearRegression()  # 线性回归器\n",
    ")\n",
    "# 训练模型\n",
    "model.fit(X, y)\n",
    "# 求预测值y\n",
    "pred_y = model.predict(X)"
   ]
  },
  {
   "cell_type": "code",
   "execution_count": null,
   "metadata": {
    "id": "DEF5C07B40304531872FD4D6167308FC",
    "jupyter": {},
    "slideshow": {
     "slide_type": "slide"
    },
    "tags": []
   },
   "outputs": [],
   "source": [
    "p_year = [i for i in range(1960, 2020)]\n",
    "p_X = np.array(p_year)\n",
    "p_X = p_X.reshape(-1, 1)\n",
    "p_pred_y = model.predict(p_X)\n",
    "p_pred_y"
   ]
  },
  {
   "cell_type": "code",
   "execution_count": null,
   "metadata": {
    "id": "6D71986C64A9467693ADBF1B725B537D",
    "jupyter": {},
    "slideshow": {
     "slide_type": "slide"
    },
    "tags": []
   },
   "outputs": [],
   "source": [
    "# 绘制多项式回归线\n",
    "px = np.linspace(X.min(), X.max(), 1000)\n",
    "px = px.reshape(-1, 1)\n",
    "pred_py = model.predict(px)\n",
    "\n",
    "# 绘制图像\n",
    "mp.figure(\"美国历年GDP拟合结果\", facecolor='lightgray')\n",
    "mp.title('USA GDP Regression', fontsize=16)\n",
    "mp.tick_params(labelsize=10)\n",
    "mp.grid(linestyle=':')\n",
    "mp.xlabel('x')\n",
    "mp.ylabel('y')\n",
    "\n",
    "mp.scatter(X, y, s=60, marker='o', c='dodgerblue', label='Points')\n",
    "mp.plot(px, pred_py, c='orangered', label='PolyFit Line')\n",
    "mp.tight_layout()\n",
    "mp.legend()\n",
    "mp.show()"
   ]
  },
  {
   "cell_type": "code",
   "execution_count": null,
   "metadata": {
    "id": "A2F3BA1025A74B248AECB4C62D4F68AA",
    "jupyter": {},
    "slideshow": {
     "slide_type": "slide"
    },
    "tags": []
   },
   "outputs": [],
   "source": [
    "# 中国\n",
    "y = china_gdp\n",
    "model = pl.make_pipeline(\n",
    "    sp.PolynomialFeatures(5),  # 多项式特征拓展器\n",
    "    lm.LinearRegression()  # 线性回归器\n",
    ")\n",
    "# 训练模型\n",
    "model.fit(X, y)\n",
    "# 求预测值y\n",
    "pred_y = model.predict(X)"
   ]
  },
  {
   "cell_type": "code",
   "execution_count": null,
   "metadata": {
    "id": "767ECEAD1CDF4FF4B4127C5D8F69444B",
    "jupyter": {},
    "slideshow": {
     "slide_type": "slide"
    },
    "tags": []
   },
   "outputs": [],
   "source": [
    "# 绘制多项式回归线\n",
    "px = np.linspace(X.min(), X.max(), 1000)\n",
    "px = px.reshape(-1, 1)\n",
    "pred_py = model.predict(px)\n",
    "\n",
    "# 绘制图像\n",
    "mp.figure(\"中国历年GDP拟合结果\", facecolor='lightgray')\n",
    "mp.title('CHN GDP Regression', fontsize=16)\n",
    "mp.tick_params(labelsize=10)\n",
    "mp.grid(linestyle=':')\n",
    "mp.xlabel('x')\n",
    "mp.ylabel('y')\n",
    "\n",
    "mp.scatter(X, y, s=60, marker='o', c='dodgerblue', label='Points')\n",
    "mp.plot(px, pred_py, c='orangered', label='PolyFit Line')\n",
    "mp.tight_layout()\n",
    "mp.legend()\n",
    "mp.show()"
   ]
  },
  {
   "cell_type": "code",
   "execution_count": null,
   "metadata": {},
   "outputs": [],
   "source": []
  }
 ],
 "metadata": {
  "kernelspec": {
   "display_name": "Python 3 (ipykernel)",
   "language": "python",
   "name": "python3"
  },
  "language_info": {
   "codemirror_mode": {
    "name": "ipython",
    "version": 3
   },
   "file_extension": ".py",
   "mimetype": "text/x-python",
   "name": "python",
   "nbconvert_exporter": "python",
   "pygments_lexer": "ipython3",
   "version": "3.9.0"
  },
  "toc": {
   "base_numbering": 1,
   "nav_menu": {},
   "number_sections": true,
   "sideBar": true,
   "skip_h1_title": false,
   "title_cell": "Table of Contents",
   "title_sidebar": "Contents",
   "toc_cell": false,
   "toc_position": {},
   "toc_section_display": true,
   "toc_window_display": false
  }
 },
 "nbformat": 4,
 "nbformat_minor": 4
}
