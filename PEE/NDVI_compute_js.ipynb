{
 "cells": [
  {
   "cell_type": "markdown",
   "metadata": {},
   "source": [
    "# NDVI计算显示"
   ]
  },
  {
   "cell_type": "markdown",
   "metadata": {},
   "source": [
    "## 说明：基于多景Landsat8卫星数据，进行镶嵌、NDVI计算、三市范围裁剪成果展示等；\n",
    "\n",
    "示例："
   ]
  },
  {
   "cell_type": "code",
   "execution_count": null,
   "metadata": {},
   "outputs": [],
   "source": [
    "# //  数据加载\n",
    "var image1 = pie.Image(\"/SampleData/Raster/LC08_L1TP_120037_20180606_20180615_01_T1_All.TIF\");\n",
    "var image2 = pie.Image(\"SampleData/Raster/LC08_L1TP_120038_20180419_20180501_01_T1_All.TIF\");\n",
    "var imageCollection = pie.ImageCollection().fromImages([image1,image2]);"
   ]
  },
  {
   "cell_type": "code",
   "execution_count": null,
   "metadata": {},
   "outputs": [],
   "source": [
    "# //  影像镶嵌\n",
    "var imageMosic = imageCollection.select([\"B1\",\"B2\",\"B3\",\"B4\"]).mosaic();"
   ]
  },
  {
   "cell_type": "code",
   "execution_count": null,
   "metadata": {},
   "outputs": [],
   "source": [
    "# // NDVI计算\n",
    "var image_Nir = imageMosic.select(\"B4\");\n",
    "var image_Red = imageMosic.select(\"B3\");\n",
    "var image_NDVI = image_Nir.subtract(image_Red).divide(image_Nir.add(image_Red));"
   ]
  },
  {
   "cell_type": "code",
   "execution_count": null,
   "metadata": {},
   "outputs": [],
   "source": [
    "# // 范围裁剪\n",
    "var featureCollection = pie.FeatureCollection(\"/SampleData/Vector/YangZhouNanJingZhenJiang.json\");\n",
    "var feature = featureCollection.getAt(0);\n",
    "var geometry = feature.geometry();\n",
    "var image_HuaDong = image_NDVI.clip(geometry);"
   ]
  },
  {
   "cell_type": "code",
   "execution_count": null,
   "metadata": {},
   "outputs": [],
   "source": [
    "# // 结果加载显示\n",
    "var visParam = {\n",
    "    min: -0.588317,\n",
    "    max: 0.794508,\n",
    "    palette: 'a3171e,c56e12,e8c507,dfff00,7fff00,1fff00,15e235,34b784'\n",
    "};\n",
    "Map.addLayer(image_HuaDong,visParam,\"LayerNDVI\",true);"
   ]
  },
  {
   "cell_type": "code",
   "execution_count": null,
   "metadata": {},
   "outputs": [],
   "source": [
    "# // 加载行政范围边界框\n",
    "Map.addLayer(featureCollection,{color:'FFFFFFFF',width:8,fillColor:'00FFFF00'},\"行政范围\", true);\n",
    "Map.setCenter(119.1,32.5,8);"
   ]
  }
 ],
 "metadata": {
  "kernelspec": {
   "display_name": "Python 3 (ipykernel)",
   "language": "python",
   "name": "python3"
  },
  "language_info": {
   "codemirror_mode": {
    "name": "ipython",
    "version": 3
   },
   "file_extension": ".py",
   "mimetype": "text/x-python",
   "name": "python",
   "nbconvert_exporter": "python",
   "pygments_lexer": "ipython3",
   "version": "3.9.0"
  }
 },
 "nbformat": 4,
 "nbformat_minor": 4
}
