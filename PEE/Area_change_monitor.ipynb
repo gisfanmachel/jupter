{
 "cells": [
  {
   "cell_type": "markdown",
   "metadata": {},
   "source": [
    "# 面积变化检测显示"
   ]
  },
  {
   "cell_type": "code",
   "execution_count": null,
   "metadata": {},
   "outputs": [],
   "source": [
    "# // 划定数据范围-巢湖区域\n",
    "var geometry = pie.Geometry.Polygon([[117.2,31.8],[117.9,31.8],[117.9,31.4],[117.2,31.4],[117.2,31.8]], null);\n",
    "var roi = pie.FeatureCollection(pie.Feature(geometry));\n",
    "Map.addLayer(roi, {color: \"ff0000ff\", fillColor: \"00000000\"}, \"roi\", false);\n",
    "Map.centerObject(geometry, 9);"
   ]
  },
  {
   "cell_type": "code",
   "execution_count": null,
   "metadata": {},
   "outputs": [],
   "source": [
    "# // 指定年份数据的NDWI指数提取\n",
    "function processImage(year, roi) {\n",
    "    var id = \"LC08/01/T1/\";\n",
    "    var l8Col = pie.ImageCollection(id)\n",
    "        .filterBounds(roi)\n",
    "        .filterDate(year+\"-01-01\", year+\"-12-31\")\n",
    "        .map(function(image) {\n",
    "            var b3 = image.select(\"B3\");\n",
    "            var b5 = image.select(\"B5\");\n",
    "            var ndwi = (b3.subtract(b5)).divide(b3.add(b5));\n",
    "            var qa = image.select(\"BQA\");\n",
    "            var cloudMask = qa.bitwiseAnd(1<<4).eq(0);\n",
    "            ndwi = ndwi.updateMask(cloudMask)\n",
    "                .updateMask(ndwi.gt(0.3));\n",
    "            return ndwi;\n",
    "        });\n",
    "\n",
    "    var yearImg = l8Col.select(\"B3\").max().clip(roi);\n",
    "    return yearImg;\n",
    "}"
   ]
  },
  {
   "cell_type": "code",
   "execution_count": null,
   "metadata": {},
   "outputs": [],
   "source": [
    "# // 2017-2019年巢湖区域水体指数提取及显示\n",
    "var img1 = processImage(2017, geometry);\n",
    "Map.addLayer(img1, {min:-1, max:1, palette: \"0000ff\"}, \"2017\");\n",
    "\n",
    "var img2 = processImage(2018, geometry);\n",
    "Map.addLayer(img2, {min:-1, max:1, palette: \"00ff00\"}, \"2018\");\n",
    "\n",
    "var img3 = processImage(2019, geometry);\n",
    "Map.addLayer(img3, {min:-1, max:1, palette: \"ff0000\"}, \"2019\");"
   ]
  },
  {
   "cell_type": "code",
   "execution_count": null,
   "metadata": {},
   "outputs": [],
   "source": [
    "# // 计算影像面积\n",
    "function calcArea(yearImg, roi) {\n",
    "    var areaImage = yearImg.pixelArea().multiply(yearImg.gt(0.3));\n",
    "    var water = areaImage.reduceRegion(pie.Reducer.sum(), roi, 1);\n",
    "    return water;\n",
    "}"
   ]
  },
  {
   "cell_type": "code",
   "execution_count": null,
   "metadata": {},
   "outputs": [],
   "source": [
    "# // 巢湖水域2017-2019年面积变化多图表对比\n",
    "var line_options = {\n",
    "    title: '巢湖水域2017-2019年面积变化',\n",
    "    legend: ['水体面积'],\n",
    "    xAxisName: \"日期（年）\",\n",
    "    yAxisName: \"水体面积（平方千米）\",\n",
    "    chartType: \"line\",\n",
    "    yScale: 1/1000000\n",
    "};\n",
    "var images = [\n",
    "    calcArea(img1, geometry),\n",
    "    calcArea(img2, geometry),\n",
    "    calcArea(img3, geometry)\n",
    "];\n",
    "var xSeries = [2017, 2018, 2019];\n",
    "print(\"2017年\", images[0]);\n",
    "print(\"2018年\", images[1]);\n",
    "print(\"2019年\", images[2]);\n",
    "ChartImage(images, xSeries, line_options);\n",
    "\n",
    "var column_options = {\n",
    "    title: '巢湖水域2017-2019年面积变化',\n",
    "    legend: [\"水体面积\"],\n",
    "    yAxisName: \"水体面积（平方千米）\",\n",
    "    xAxisName: \"日期（年）\",\n",
    "    chartType: \"column\",\n",
    "    yScale: 1/1000000\n",
    "};\n",
    "ChartImage(images, xSeries, column_options);"
   ]
  }
 ],
 "metadata": {
  "kernelspec": {
   "display_name": "Python 3",
   "language": "python",
   "name": "python3"
  },
  "language_info": {
   "codemirror_mode": {
    "name": "ipython",
    "version": 3
   },
   "file_extension": ".py",
   "mimetype": "text/x-python",
   "name": "python",
   "nbconvert_exporter": "python",
   "pygments_lexer": "ipython3",
   "version": "3.9.0"
  }
 },
 "nbformat": 4,
 "nbformat_minor": 4
}
