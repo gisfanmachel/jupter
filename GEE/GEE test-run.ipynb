{
 "cells": [
  {
   "cell_type": "markdown",
   "metadata": {},
   "source": [
    "GEE 测试程序"
   ]
  },
  {
   "cell_type": "code",
   "execution_count": null,
   "metadata": {},
   "outputs": [],
   "source": [
    "# -*- coding:utf-8 -*-\n",
    "import ee\n",
    "from IPython.display import Image\n",
    "import os\n",
    "\n",
    "# 设置代理端口\n",
    "os.environ['HTTP_PROXY'] = 'http://127.0.0.1:1080'\n",
    "os.environ['HTTPS_PROXY'] = 'http://127.0.0.1:1080'\n",
    "\n",
    "# 初始化GEE\n",
    "ee.Initialize()\n",
    "\n",
    "#获取图形信息\n",
    "print(ee.Image('USGS/SRTMGL1_003').getInfo())\n",
    "\n",
    "# 获取下载地址\n",
    "image1 = ee.Image('srtm90_v4')\n",
    "path = image1.getDownloadUrl({\n",
    "    'scale': 30,\n",
    "    'crs': 'EPSG:4326',\n",
    "    'region': '[[-120, 35], [-119, 35], [-119, 34], [-120, 34]]'\n",
    "})\n",
    "print()\n",
    "print(path)\n",
    "\n",
    "#获取缩略图\n",
    "thumb_url=image1.getThumbURL({\n",
    "    \"crs\":\"EPSG:4326\",\n",
    "    \"min\":0,\n",
    "    \"max\":5000\n",
    "})\n",
    "print()\n",
    "print(thumb_url)\n",
    "print()\n",
    "Image(url=thumb_url)\n"
   ]
  }
 ],
 "metadata": {
  "kernelspec": {
   "display_name": "Python 3",
   "language": "python",
   "name": "python3"
  },
  "language_info": {
   "codemirror_mode": {
    "name": "ipython",
    "version": 3
   },
   "file_extension": ".py",
   "mimetype": "text/x-python",
   "name": "python",
   "nbconvert_exporter": "python",
   "pygments_lexer": "ipython3",
   "version": "3.9.0"
  }
 },
 "nbformat": 4,
 "nbformat_minor": 4
}
