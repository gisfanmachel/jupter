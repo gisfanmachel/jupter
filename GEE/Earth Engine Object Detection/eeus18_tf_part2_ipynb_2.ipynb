{
 "cells": [
  {
   "cell_type": "markdown",
   "metadata": {
    "id": "slnEG77OfZOd"
   },
   "source": [
    "# Earth Engine Object Detection\n",
    "In this notebook, we'll develop a model to detect cars in 15cm aerial imagery.\n",
    "\n",
    "## Part 1: Creating a Model\n",
    "\n",
    "Lets start by importing TensorFlow and the Colab auth library for communication with Google Cloud Storage."
   ]
  },
  {
   "cell_type": "code",
   "execution_count": null,
   "metadata": {
    "id": "aaUeCSXUAjwO"
   },
   "outputs": [],
   "source": [
    "import tensorflow as tf\n",
    "from google.colab import auth\n",
    "auth.authenticate_user()"
   ]
  },
  {
   "cell_type": "markdown",
   "metadata": {
    "id": "V-yyJA08grF3"
   },
   "source": [
    "Now we'll need to generate training / evaluation data. We'll start by hand annotating the outlines of cars in a roughly 1km^2 region of Mountain View, CA. [We can do this using the geometry editor](https://code.earthengine.google.com/1b573c8d1b3b4bcb9e972eb8994abc4f) in the Earth Engine Code Editor. We can use this annotated data to create a vector mask of cars/non-cars.\n",
    "\n",
    "With the car mask, [we'll generate training and evaluation FeatureCollections and export them to cloud.](https://code.earthengine.google.com/c84a1d9e610ec91044c82766e53fe48a)"
   ]
  },
  {
   "cell_type": "markdown",
   "metadata": {
    "id": "1yG71AN_WFQw"
   },
   "source": [
    "Lets create a dataset reader in TensorFlow for training/eval data."
   ]
  },
  {
   "cell_type": "code",
   "execution_count": null,
   "metadata": {
    "id": "kVd8XwjrCSuT"
   },
   "outputs": [],
   "source": [
    "# Our input function will return 4 features, each a 'side' x 'side' tensor\n",
    "# representing the area centered on a pixel with the label 'class'\n",
    "def input_fn(fileNames, numEpochs=None, shuffle=True, batchSize=100, side=61):\n",
    "  ds = tf.data.TFRecordDataset(fileNames, compression_type='GZIP')\n",
    "\n",
    "  feature_columns = {\n",
    "    'R': tf.FixedLenFeature([side, side], dtype=tf.float32),  \n",
    "    'G': tf.FixedLenFeature([side, side], dtype=tf.float32),  \n",
    "    'B': tf.FixedLenFeature([side, side], dtype=tf.float32),    \n",
    "    'L': tf.FixedLenFeature([side, side], dtype=tf.float32),\n",
    "    'class': tf.FixedLenFeature([1, 1], dtype=tf.float32)\n",
    "  }\n",
    "\n",
    "  def parse(example_proto):\n",
    "    parsed_features = tf.parse_single_example(example_proto, feature_columns)\n",
    "    # Separate the class labels from the training features\n",
    "    labels = parsed_features.pop('class')\n",
    "    # For faster training / stability, we'll bring our [0, 255] RGBL values into\n",
    "    # the range [0, 1]\n",
    "    parsed_features = {\n",
    "        k:tf.divide(v, 255.0) for (k,v) in parsed_features.items()}\n",
    "    return parsed_features, labels\n",
    "\n",
    "  ds = ds.map(parse, num_parallel_calls=5)\n",
    "\n",
    "  if shuffle:\n",
    "    # We choose 30 since, with a batch size of 100, we'll keep 3000 (the size\n",
    "    # of the training data) examples in memory for the shuffle\n",
    "    ds = ds.shuffle(buffer_size=batchSize * 30)\n",
    "    \n",
    "  ds = ds.batch(batchSize).repeat(numEpochs)\n",
    "  \n",
    "  iterator = ds.make_one_shot_iterator()\n",
    "  features, labels = iterator.get_next()\n",
    "  return features, labels"
   ]
  },
  {
   "cell_type": "markdown",
   "metadata": {
    "id": "sKIpdpAvXWIx"
   },
   "source": [
    "Its time to create a model. We'll build a [Fully Convolutional NN](https://people.eecs.berkeley.edu/~jonlong/long_shelhamer_fcn.pdf) so that we can train our model on 61x61 patches, and later apply it to much larger areas for prediction. Note, using a FCNN allows us to make predictions on image data of any dimensions."
   ]
  },
  {
   "cell_type": "code",
   "execution_count": null,
   "metadata": {
    "id": "PDTrkrmySXe7"
   },
   "outputs": [],
   "source": [
    "# A helper function for defining a convolutional layer. We use batch\n",
    "# normalization to speed up training given our limited training data, therefore\n",
    "# we can't use vanilla conv2d(activation='relu', ...)\n",
    "def conv_layer(inputs, filters, kernel_size, training):\n",
    "  # Note that the default padding scheme is VALID.\n",
    "  conv = tf.layers.conv2d(\n",
    "      inputs=inputs,\n",
    "      filters=filters,\n",
    "      kernel_size=kernel_size,\n",
    "      data_format='channels_last')\n",
    "  norm = tf.layers.batch_normalization(inputs=conv, training=training)\n",
    "  return tf.nn.relu(norm)\n",
    "\n",
    "# Our model will combine convolutions of the full patch on the luminance\n",
    "# channel with convolutions of the RGB channels on a smaller region of the\n",
    "# patch. The model will finally scale the predicted 2D region to match the size\n",
    "# of the input features minus the kernel contributions to the edges.\n",
    "def fcnn(feat, mode):\n",
    "  training = mode == tf.estimator.ModeKeys.TRAIN\n",
    "  # interleave the red, green, and blue channels so that a batch is along axis=0\n",
    "  rgb = tf.stack([feat['R'], feat['G'], feat['B']], axis=1)\n",
    "  # Strip a 15 pixel border from the rgb channels. We'll only use the larger\n",
    "  # area to provide context to the foveated rgb region.\n",
    "  rgb = rgb[:, :, 15:-15, 15:-15]\n",
    "  # Convert from NCHW to NHWC\n",
    "  rgb = tf.transpose(rgb, [0, 2, 3, 1])\n",
    "  \n",
    "  # Add a dimension for 'channel' to make this tensor 4D\n",
    "  l = tf.expand_dims(feat['L'], 3)\n",
    "  \n",
    "  # We'll get the size of the original source pixels from l minus the \"kernel\"\n",
    "  # surrounding each pixel. We choose to build the meat of our CNN around this\n",
    "  # reduced region to reduce the model size, training time, etc...\n",
    "  original_dims=tf.add(tf.shape(l)[1:3], -60)\n",
    "  \n",
    "  # Perform 5 convolutions in a row, reducing the information in the luminance \n",
    "  # channel to a 25x25 region per-pixel.\n",
    "  for i in range(6):\n",
    "    l = conv_layer(inputs=l, filters=3 + i, kernel_size=7, training=training)\n",
    "       \n",
    "  rgb = conv_layer(inputs=rgb, filters=8, kernel_size=7, training=training)\n",
    "  \n",
    "  # Combine rgb and l to form a 4D tensor with 16 filters\n",
    "  rgbl = tf.concat([rgb, l], 3)\n",
    "  \n",
    "  comb1 = tf.layers.max_pooling2d(\n",
    "      inputs=rgbl, \n",
    "      pool_size=3, \n",
    "      strides=2, \n",
    "      data_format='channels_last')\n",
    "  \n",
    "  comb2 = conv_layer(inputs=comb1, filters=32, kernel_size=5, training=training)\n",
    "  comb2 = tf.layers.max_pooling2d(\n",
    "      inputs=comb2, \n",
    "      pool_size=3, \n",
    "      strides=2, \n",
    "      data_format='channels_last')\n",
    "  \n",
    "  comb3 = conv_layer(inputs=comb2, filters=64, kernel_size=3, training=training)\n",
    "  \n",
    "  # We stay convolutional by substituting a conv op for a dense layer, and\n",
    "  # keeping the kernel size 1x1.\n",
    "  dense = conv_layer(\n",
    "      inputs=comb3,\n",
    "      filters=64,\n",
    "      kernel_size=1,\n",
    "      training=training)\n",
    "  dropout = tf.layers.dropout(\n",
    "      inputs=dense,\n",
    "      rate=0.4, \n",
    "      training=training)\n",
    "  \n",
    "  # The final layer is just linear activiation; we use the same trick we did\n",
    "  # with the previous conv layer to produce a single classification.\n",
    "  dense_final = tf.layers.conv2d(\n",
    "      inputs=dropout,\n",
    "      filters=1,\n",
    "      kernel_size=1,\n",
    "      data_format='channels_last')\n",
    "   \n",
    "  # Squash all predictions into the range (0, 1)\n",
    "  probs = tf.multiply(tf.add(tf.tanh(dense_final), 1.0), 0.5)\n",
    "    \n",
    "  # We won't bother adding the resize op to the graph unless we're running\n",
    "  # predictions.\n",
    "  #\n",
    "  # In a more mature model, we might use a \"deconvolution\" here by 4x followed\n",
    "  # by a slight resize to recover a finer amount of detail. Training this way\n",
    "  # would require larger (in area) training samples so we could give the\n",
    "  # transposed convolution op something to learn from.\n",
    "  if mode == tf.estimator.ModeKeys.PREDICT:\n",
    "    probs = tf.image.resize_images(\n",
    "        images=probs, \n",
    "        size=original_dims)\n",
    "    \n",
    "  # Remove the un-needed channel dimension of 1\n",
    "  probs = tf.squeeze(probs)\n",
    "  \n",
    "  # When training/evaluating, 1D tensor of shape [N]. When predicting, 3D tensor\n",
    "  # of shape [N, H, W]\n",
    "  return probs"
   ]
  },
  {
   "cell_type": "markdown",
   "metadata": {
    "id": "jfiC57br4igz"
   },
   "source": [
    "To facillitate easier training/evaluation/prediction, we'll use TensorFlow's estimator API. We're required to\n",
    "define a function that the estimator can configure with a mode that will return [estimator specs](https://www.tensorflow.org/api_docs/python/tf/estimator/EstimatorSpec) describing how our model\n",
    "should behave depending on the mode."
   ]
  },
  {
   "cell_type": "code",
   "execution_count": null,
   "metadata": {
    "id": "ILm_M9ED4sY-"
   },
   "outputs": [],
   "source": [
    "def model_fn(features, labels, mode):\n",
    "  # Whatever mode we're in, we'll always want to generate predictions from the\n",
    "  # incoming features.\n",
    "  probs = fcnn(features, mode)\n",
    "  \n",
    "  predicted_class = tf.cast(tf.greater(probs, 0.5), tf.float32)\n",
    "\n",
    "  if mode == tf.estimator.ModeKeys.PREDICT:\n",
    "    # We reshape the predictions into 1D arrays to make writing prediction data\n",
    "    # into TFRecord files easier\n",
    "    #\n",
    "    # We'll need these prediction labels later when we build TFRecord files\n",
    "    return tf.estimator.EstimatorSpec(mode=mode, predictions = {\n",
    "        'class_id': tf.reshape(predicted_class, [-1]),\n",
    "        'probability': tf.reshape(probs, [-1])\n",
    "    })\n",
    "\n",
    "  labels = tf.squeeze(labels)\n",
    "  # Since we're performing a binary classification, we can use a simple loss\n",
    "  # function.\n",
    "  loss = tf.losses.mean_squared_error(labels, probs)\n",
    "\n",
    "  if mode == tf.estimator.ModeKeys.TRAIN:\n",
    "    # Adaptive moment estimation has been shown to converge faster than plain\n",
    "    # old gradient descent in CNNs.\n",
    "    optimizer = tf.train.AdamOptimizer(learning_rate=0.0001)\n",
    "    # We need the weight updates to perform the minimization step as batch\n",
    "    # normalization depends on it\n",
    "    with tf.control_dependencies(tf.get_collection(tf.GraphKeys.UPDATE_OPS)):\n",
    "      train_op = optimizer.minimize(\n",
    "          loss=loss,\n",
    "          global_step=tf.train.get_global_step())\n",
    "    \n",
    "    logging_hook = tf.train.LoggingTensorHook(\n",
    "        {\"batch_predictions\" : predicted_class,\n",
    "        \"batch_labels\": labels}, \n",
    "        every_n_iter=1000)\n",
    "    return tf.estimator.EstimatorSpec(\n",
    "        mode=mode, \n",
    "        loss=loss, \n",
    "        train_op=train_op, \n",
    "        training_hooks=[logging_hook])\n",
    "  \n",
    "  \n",
    "  eval_metric_ops = {\"accuracy\": tf.metrics.accuracy(\n",
    "      labels=labels, \n",
    "      predictions=predicted_class)\n",
    "  }\n",
    "\n",
    "  return tf.estimator.EstimatorSpec(\n",
    "      mode=mode,\n",
    "      loss=loss,\n",
    "      eval_metric_ops=eval_metric_ops)"
   ]
  },
  {
   "cell_type": "markdown",
   "metadata": {
    "id": "W1Vv7kyuA46L"
   },
   "source": [
    "Now lets create the model object. Don't forget to replace the paths below with the paths to your own GCS bucket / training / evaluation inputs!"
   ]
  },
  {
   "cell_type": "code",
   "execution_count": null,
   "metadata": {
    "id": "EsbuDn8FNEnc"
   },
   "outputs": [],
   "source": [
    "tf.logging.set_verbosity(tf.logging.INFO)\n",
    "auto_classifier = tf.estimator.Estimator(\n",
    "    model_fn=model_fn,\n",
    "    model_dir=\"gs://cfb-batch-export/eeus18/autoclassifier\")"
   ]
  },
  {
   "cell_type": "markdown",
   "metadata": {
    "id": "i6ZnjiTZBC5s"
   },
   "source": [
    "**And train it!**"
   ]
  },
  {
   "cell_type": "code",
   "execution_count": null,
   "metadata": {
    "id": "O_Dp5Z0n82c-"
   },
   "outputs": [],
   "source": [
    "# If we want to clear the checkpointed model, we can delete the mode directory \n",
    "# to start fresh\n",
    "# !rm -rf \"/autoclassifier\"\n",
    "\n",
    "train_file = 'gs://cfb-batch-export/cars_training.tfrecord.gz'\n",
    "\n",
    "auto_classifier.train(\n",
    "    input_fn=lambda: input_fn(fileNames=[train_file]),\n",
    "    steps=50000)"
   ]
  },
  {
   "cell_type": "markdown",
   "metadata": {
    "id": "StKXr5YkBRO5"
   },
   "source": [
    "And evaluate it! Estimator is awesome!"
   ]
  },
  {
   "cell_type": "code",
   "execution_count": null,
   "metadata": {
    "id": "o7w0JMdVXsgw"
   },
   "outputs": [],
   "source": [
    "eval_file = 'gs://cfb-batch-export/cars_training.tfrecord.gz'\n",
    "\n",
    "acc = auto_classifier.evaluate(input_fn=lambda: input_fn(\n",
    "    fileNames=[eval_file], \n",
    "    numEpochs=1, \n",
    "    batchSize=100,\n",
    "    shuffle=False))['accuracy']"
   ]
  },
  {
   "cell_type": "markdown",
   "metadata": {
    "id": "h-E9Fz38B6Hk"
   },
   "source": [
    "## Part 2: Creating / Visualizing Predictions\n",
    "\n",
    "We'll now need to [export an area on which to perform inference](https://code.earthengine.google.com/3ece5d0b4b2e0f0d4371ba3f5eb5940d).  Note we get a \"-mixer.json\" with our export which we'll leave alone for now. Be sure to export this image at 15cm/px. \n",
    "\n",
    "We'll define a similar dataset input function as our training / evaluation input function, except we don't carry\n",
    "any class labels in, we'll instead predict these."
   ]
  },
  {
   "cell_type": "code",
   "execution_count": null,
   "metadata": {
    "id": "CUH2j2NNGgU6"
   },
   "outputs": [],
   "source": [
    "# The default value of side is now 316, as our intent is to create predictions\n",
    "# for 256x256 image patches with a 30 pixel wide border.\n",
    "def infer_input_fn(fileNames, side=316, batchSize=100):\n",
    "  ds = tf.data.TFRecordDataset(fileNames, compression_type='GZIP')\n",
    "\n",
    "  feature_columns = {\n",
    "    'R': tf.FixedLenFeature([side,side], dtype=tf.float32),  \n",
    "    'G': tf.FixedLenFeature([side,side], dtype=tf.float32),  \n",
    "    'B': tf.FixedLenFeature([side,side], dtype=tf.float32),    \n",
    "    'L': tf.FixedLenFeature([side,side], dtype=tf.float32),\n",
    "  }\n",
    "\n",
    "  def parse(example_proto):\n",
    "    parsed_features = tf.parse_single_example(example_proto, feature_columns)\n",
    "    parsed_features = {\n",
    "        k:tf.divide(v, 255.0) for (k,v) in parsed_features.items()}\n",
    "    return parsed_features\n",
    "  \n",
    "  ds = ds.map(parse, num_parallel_calls=5).batch(batchSize)\n",
    "  \n",
    "  iterator = ds.make_one_shot_iterator()\n",
    "  features = iterator.get_next()\n",
    "  return features"
   ]
  },
  {
   "cell_type": "markdown",
   "metadata": {
    "id": "IgyQYL7tGujG"
   },
   "source": [
    "Lets define a function to take a dictionary of a single patch's predictions and write them to an example. By\n",
    "writing examples this way, we'll wind up with an image with 2 bands: 'class_id' and 'probability'"
   ]
  },
  {
   "cell_type": "code",
   "execution_count": null,
   "metadata": {
    "id": "zIPbYpIsZh-O"
   },
   "outputs": [],
   "source": [
    "def make_example(pred_dict):\n",
    "  class_id = pred_dict['class_id']\n",
    "  probability = pred_dict['probability']\n",
    "  return tf.train.Example(\n",
    "    features=tf.train.Features(\n",
    "      feature={\n",
    "        'class_id': tf.train.Feature(\n",
    "            float_list=tf.train.FloatList(\n",
    "                value=class_id)),\n",
    "        'probability': tf.train.Feature(\n",
    "            float_list=tf.train.FloatList(\n",
    "                value=probability))\n",
    "      }\n",
    "    )\n",
    "  )"
   ]
  },
  {
   "cell_type": "markdown",
   "metadata": {
    "id": "qay8n5suqktj"
   },
   "source": [
    "Don't forget to replace the paths below with the paths to your prediction inputs!"
   ]
  },
  {
   "cell_type": "code",
   "execution_count": null,
   "metadata": {
    "id": "9tp26R2HZa2l"
   },
   "outputs": [],
   "source": [
    "predict_files = ['gs://cfb-batch-export/cars_inference2-00000.tfrecord.gz',\n",
    "                 'gs://cfb-batch-export/cars_inference2-00001.tfrecord.gz',\n",
    "                 'gs://cfb-batch-export/cars_inference2-00002.tfrecord.gz',\n",
    "                 'gs://cfb-batch-export/cars_inference2-00003.tfrecord.gz',\n",
    "                 'gs://cfb-batch-export/cars_inference2-00004.tfrecord.gz']"
   ]
  },
  {
   "cell_type": "markdown",
   "metadata": {
    "id": "O1lE2y3klWEo"
   },
   "source": [
    "We're ready to make our predictions. We'll move our predictions into TFRecord files while following a few constraints\n",
    "so that we can re-ingest these files into Earth Engine. Firstly, we must provide as many predictions as there\n",
    "were examples in each patch. As each incoming patch has (256+60) x (256+60) examples (pixels), we'll\n",
    "need our model to produce 256 x 256 labels. Note we ignore the 30 pixel border for ingesting our predictions as this is only context for classifications of the pixels *(we specified 256, 256 as our patch dimensions in Earth Engine, and a kernel of 61, 61)*.\n",
    "\n",
    "To avoid too many large files, we'll keep each file to a minimum of 50 patches of inference labels."
   ]
  },
  {
   "cell_type": "code",
   "execution_count": null,
   "metadata": {
    "id": "_70T41gGAsGV"
   },
   "outputs": [],
   "source": [
    "predictions = auto_classifier.predict(input_fn=lambda: infer_input_fn(\n",
    "    fileNames=predict_files, \n",
    "    batchSize=1,\n",
    "    side=316),\n",
    "    yield_single_examples=False)\n",
    "\n",
    "MAX_RECORDS_PER_FILE = 50\n",
    "output_path = 'gs://cfb-batch-export/labels/cars_labels-{:05}.tfrecord'\n",
    "\n",
    "# Create the records we'll ingest into EE\n",
    "file_number = 0\n",
    "still_writing = True\n",
    "total_patches = 0\n",
    "while still_writing:\n",
    "  file_path = output_path.format(file_number)\n",
    "  writer = tf.python_io.TFRecordWriter(file_path)\n",
    "  print \"Writing file: {}\".format(file_path)\n",
    "  try:\n",
    "    written_records = 0\n",
    "    while True:\n",
    "      pred_dict = predictions.next()\n",
    "      \n",
    "      writer.write(make_example(pred_dict).SerializeToString())\n",
    "      \n",
    "      written_records += 1 \n",
    "      total_patches += 1\n",
    "      \n",
    "      if written_records % 5 == 0:\n",
    "        print \"  Writing patch: {}\".format(written_records)\n",
    "      \n",
    "      if written_records == MAX_RECORDS_PER_FILE:\n",
    "        break\n",
    "  except: \n",
    "    # Stop writing for any exception. Note that reaching the end of the prediction\n",
    "    # dataset throws an exception.\n",
    "    still_writing=False\n",
    "  finally:\n",
    "    file_number += 1\n",
    "    writer.close()\n",
    "  \n",
    "print('Wrote: {} patches.').format(total_patches)"
   ]
  },
  {
   "cell_type": "code",
   "execution_count": null,
   "metadata": {
    "id": "qz7Yf4XJS87g"
   },
   "outputs": [],
   "source": []
  },
  {
   "cell_type": "markdown",
   "metadata": {
    "id": "jK_65kp4myEU"
   },
   "source": [
    "With our TFRecords in hand, we're ready to ingest them into Earth Engine. Lets get authorized!"
   ]
  },
  {
   "cell_type": "code",
   "execution_count": null,
   "metadata": {
    "id": "aMR54CsFeREh"
   },
   "outputs": [],
   "source": [
    "!pip install earthengine-api\n",
    "!earthengine authenticate --quiet"
   ]
  },
  {
   "cell_type": "markdown",
   "metadata": {
    "id": "5jTo5l77m_Yv"
   },
   "source": [
    "Be sure to replace *YOUR AUTH HERE* with your auth code!"
   ]
  },
  {
   "cell_type": "code",
   "execution_count": null,
   "metadata": {
    "id": "lrqRqZfKeiNu"
   },
   "outputs": [],
   "source": [
    "!earthengine authenticate --frontend=http://localhost:8080 --authorization-code=4/UADoP7aQAIrx8pShKZIlhIQXlHpUsBPpTPRJDbX-YZyf9lpJ18ky8yA"
   ]
  },
  {
   "cell_type": "markdown",
   "metadata": {
    "id": "p3jAR9mYnLv3"
   },
   "source": [
    "We'll now start the ingestion. If you intend on running this yourself, you'll have to replace `cfb-batch-export` with your cloud bucket and provide your own asset id. We'll also need to pass the mixer file we ignored earlier so Earth Engine knows where our labeled patches came from."
   ]
  },
  {
   "cell_type": "code",
   "execution_count": null,
   "metadata": {
    "id": "FieIYhG7eob9"
   },
   "outputs": [],
   "source": [
    "!earthengine upload image --asset_id=users/cfb/badge gs://cfb-batch-export/test_help/tile3_23-00000.tfrecord gs://cfb-batch-export/test_help/tile3_23-00001.tfrecord gs://cfb-batch-export/test_help/tile3_23-00002.tfrecord gs://cfb-batch-export/test_help/tile3_23-00003.tfrecord  gs://cfb-batch-export/test_help/tile3_23-mixer.json"
   ]
  },
  {
   "cell_type": "markdown",
   "metadata": {
    "id": "jwR7hG8RY5nT"
   },
   "source": [
    "Now that we have some predictions, lets use Earth Engine's powerful image processing to extract a bounding rectangle for each car. Our strategy will be to compute the connect components of the `class_id` band, then reduce the components to vectors from which we can produce a bounding box. [See it done here!](https://code.earthengine.google.com/6da5d95ff658f69a3e2bb645ad9ab11b)"
   ]
  }
 ],
 "metadata": {
  "accelerator": "GPU",
  "colab": {
   "collapsed_sections": [],
   "name": "“eeus18_tf_part2.ipynb”的副本",
   "provenance": []
  },
  "kernelspec": {
   "display_name": "Python 3 (ipykernel)",
   "language": "python",
   "name": "python3"
  },
  "language_info": {
   "codemirror_mode": {
    "name": "ipython",
    "version": 3
   },
   "file_extension": ".py",
   "mimetype": "text/x-python",
   "name": "python",
   "nbconvert_exporter": "python",
   "pygments_lexer": "ipython3",
   "version": "3.9.0"
  }
 },
 "nbformat": 4,
 "nbformat_minor": 4
}
